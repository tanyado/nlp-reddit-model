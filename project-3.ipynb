{
 "cells": [
  {
   "cell_type": "code",
   "execution_count": 78,
   "id": "c63b6e05-f8ca-426a-9bfd-38add4083f20",
   "metadata": {
    "tags": []
   },
   "outputs": [
    {
     "data": {
      "text/plain": [
       "'\\nOUTLINE\\nTo Do\\nr/askhistorian\\nr/askscience\\n\\nWEBSCRAPING\\n- reddit posts pull in. 100 per day\\n\\nNLP MODELING\\nNLP II:\\n-tokenizser\\n-count vectorizer\\n-stop words\\n-stemming\\n-sentiment analysis\\n-pre-processing\\nn-gram\\n- grid search CV\\n\\nX= features, message post\\ny = r/askhistorian or r/askscience\\n\\nVISUALS:\\n- bar graph\\n- bar graph for ngrams\\n'"
      ]
     },
     "execution_count": 78,
     "metadata": {},
     "output_type": "execute_result"
    }
   ],
   "source": [
    "\"\"\"\n",
    "OUTLINE\n",
    "To Do\n",
    "r/askhistorian\n",
    "r/askscience\n",
    "\n",
    "WEBSCRAPING\n",
    "- reddit posts pull in. 100 per day\n",
    "\n",
    "NLP MODELING\n",
    "NLP II:\n",
    "-tokenizser\n",
    "-count vectorizer\n",
    "-stop words\n",
    "-stemming\n",
    "-sentiment analysis\n",
    "-pre-processing\n",
    "n-gram\n",
    "- grid search CV\n",
    "\n",
    "X= features, message post\n",
    "y = r/askhistorian or r/askscience\n",
    "\n",
    "VISUALS:\n",
    "- bar graph\n",
    "- bar graph for ngrams\n",
    "\"\"\"\n",
    "\n",
    "\n"
   ]
  },
  {
   "cell_type": "code",
   "execution_count": 293,
   "id": "06acc3c7-7876-4c39-beaf-cd8a41c1abc1",
   "metadata": {
    "tags": []
   },
   "outputs": [],
   "source": []
  },
  {
   "cell_type": "code",
   "execution_count": 3,
   "id": "4f62d505-e0f9-4fd8-afd0-250296ce82ce",
   "metadata": {
    "tags": []
   },
   "outputs": [],
   "source": [
    "import praw\n",
    "import pandas as pd\n",
    "import seaborn as sns\n",
    "from datetime import date\n",
    "from creds import *\n",
    "\n",
    "pd.set_option('display.max_colwidth', None)\n",
    "\n",
    "\n",
    "reddit = praw.Reddit(\n",
    "    client_id=CLIENT_ID,\n",
    "    client_secret=CLIENT_SECRET,\n",
    "    user_agent=USER_AGENT,\n",
    "    username=USERNAME,\n",
    "    password=PASSWORD\n",
    ")"
   ]
  },
  {
   "cell_type": "markdown",
   "id": "755200e9-06fe-4d5a-8856-e9981eaf42fe",
   "metadata": {},
   "source": [
    "# Pull Subreddit Data"
   ]
  },
  {
   "cell_type": "code",
   "execution_count": 295,
   "id": "7f68b834-f831-47ab-9a81-772ff6d943a8",
   "metadata": {
    "tags": []
   },
   "outputs": [],
   "source": [
    "def get_reddit_posts(my_subreddit):\n",
    "    subreddit = reddit.subreddit(my_subreddit)\n",
    "\n",
    "    # Adjust the limit as needed -- Note that this will grab the 25 most recent posts\n",
    "    posts = subreddit.new(limit=1500)\n",
    "    # posts = subreddit.top(limit=1500)\n",
    "    \n",
    "\n",
    "    data = []\n",
    "    for post in posts:\n",
    "        data.append([post.created_utc, post.title, post.selftext, post.subreddit])\n",
    "\n",
    "    # Turn into a dataframe\n",
    "    df = pd.DataFrame(data, columns = ['created_utc', 'title', 'self_text', 'subreddit'])\n",
    "    df.to_csv(f'datasets/{my_subreddit}_{date.today()}.csv')\n",
    "    return df.tail()"
   ]
  },
  {
   "cell_type": "code",
   "execution_count": 296,
   "id": "2ddf867f-3b4e-423a-b07c-36e6e6743259",
   "metadata": {
    "tags": []
   },
   "outputs": [
    {
     "data": {
      "text/html": [
       "<div>\n",
       "<style scoped>\n",
       "    .dataframe tbody tr th:only-of-type {\n",
       "        vertical-align: middle;\n",
       "    }\n",
       "\n",
       "    .dataframe tbody tr th {\n",
       "        vertical-align: top;\n",
       "    }\n",
       "\n",
       "    .dataframe thead th {\n",
       "        text-align: right;\n",
       "    }\n",
       "</style>\n",
       "<table border=\"1\" class=\"dataframe\">\n",
       "  <thead>\n",
       "    <tr style=\"text-align: right;\">\n",
       "      <th></th>\n",
       "      <th>created_utc</th>\n",
       "      <th>title</th>\n",
       "      <th>self_text</th>\n",
       "      <th>subreddit</th>\n",
       "    </tr>\n",
       "  </thead>\n",
       "  <tbody>\n",
       "    <tr>\n",
       "      <th>664</th>\n",
       "      <td>1.697329e+09</td>\n",
       "      <td>Can a planet orbit a black hole without ripping apart?</td>\n",
       "      <td>Just wondering.</td>\n",
       "      <td>askscience</td>\n",
       "    </tr>\n",
       "    <tr>\n",
       "      <th>665</th>\n",
       "      <td>1.697342e+09</td>\n",
       "      <td>How are zero calorie sweeteners “zero calorie”?</td>\n",
       "      <td>Third year Biochemistry student here. Wondering if it’s the shape or structure of the molecule so that the enzymes in glycolysis or the TCA cycle don’t recognize it, or if it’s just not metabolized correctly, or anything.</td>\n",
       "      <td>askscience</td>\n",
       "    </tr>\n",
       "    <tr>\n",
       "      <th>666</th>\n",
       "      <td>1.697336e+09</td>\n",
       "      <td>Why is the moon not lit up during an eclipse?</td>\n",
       "      <td>I’ve been paying attention to the moon lately. I’ve notice that the moon alot of the time you can see it during the day time.  You can see the craters and everything during the day time. \\n\\nSo my question is, if the moon doesn’t produce is own light and the sun is what give the moon the right amount of light so you can see it, how come during a solar eclipse the sun is right behind it but you can’t see any details of the moon? the moon was pitch black.</td>\n",
       "      <td>askscience</td>\n",
       "    </tr>\n",
       "    <tr>\n",
       "      <th>667</th>\n",
       "      <td>1.697348e+09</td>\n",
       "      <td>Do time crystals break continuous or discrete time translation symmetry?</td>\n",
       "      <td>According to [Wikipedia](https://en.wikipedia.org/wiki/Time_crystal#Broken_symmetry_in_discrete_time_crystals_(DTC)) and many other sources (such as [this](https://iontrap.umd.edu/wp-content/uploads/2012/12/annurev-conmatphys-031119-050658.pdf) paper on page 2), DTCs break discrete time translation symmetry. However, I was watching [this](https://youtu.be/5l1KxgHH2Ek?feature=shared&amp;t=487) PBS Space Time video that says that DTCs break continuous time translation symmetry while maintaining discrete time symmetry. I have two main questions:\\n\\n1. What's the different between the two?\\n2. Is there a mistake in the PBS video?</td>\n",
       "      <td>askscience</td>\n",
       "    </tr>\n",
       "    <tr>\n",
       "      <th>668</th>\n",
       "      <td>1.697261e+09</td>\n",
       "      <td>How is hydrogen created in our universe?</td>\n",
       "      <td>After learning that hydrogen is the most abundant and is the lightest element in the universe, my mind instantly started racing about how the inevitable movement of the universe is towards refinement. Idk if there’s a better word for it. I guess I’d like to know if it’s a matter of hydrogen being so abundant since the Big Bang, or if there’s some larger process that I don’t know of which leads to the abundance of hydrogen. \\nThanks!</td>\n",
       "      <td>askscience</td>\n",
       "    </tr>\n",
       "  </tbody>\n",
       "</table>\n",
       "</div>"
      ],
      "text/plain": [
       "      created_utc  \\\n",
       "664  1.697329e+09   \n",
       "665  1.697342e+09   \n",
       "666  1.697336e+09   \n",
       "667  1.697348e+09   \n",
       "668  1.697261e+09   \n",
       "\n",
       "                                                                        title  \\\n",
       "664                    Can a planet orbit a black hole without ripping apart?   \n",
       "665                           How are zero calorie sweeteners “zero calorie”?   \n",
       "666                             Why is the moon not lit up during an eclipse?   \n",
       "667  Do time crystals break continuous or discrete time translation symmetry?   \n",
       "668                                  How is hydrogen created in our universe?   \n",
       "\n",
       "                                                                                                                                                                                                                                                                                                                                                                                                                                                                                                                                                                                                                                                 self_text  \\\n",
       "664                                                                                                                                                                                                                                                                                                                                                                                                                                                                                                                                                                                                                                        Just wondering.   \n",
       "665                                                                                                                                                                                                                                                                                                                                                                                                                          Third year Biochemistry student here. Wondering if it’s the shape or structure of the molecule so that the enzymes in glycolysis or the TCA cycle don’t recognize it, or if it’s just not metabolized correctly, or anything.   \n",
       "666                                                                                                                                                                              I’ve been paying attention to the moon lately. I’ve notice that the moon alot of the time you can see it during the day time.  You can see the craters and everything during the day time. \\n\\nSo my question is, if the moon doesn’t produce is own light and the sun is what give the moon the right amount of light so you can see it, how come during a solar eclipse the sun is right behind it but you can’t see any details of the moon? the moon was pitch black.   \n",
       "667  According to [Wikipedia](https://en.wikipedia.org/wiki/Time_crystal#Broken_symmetry_in_discrete_time_crystals_(DTC)) and many other sources (such as [this](https://iontrap.umd.edu/wp-content/uploads/2012/12/annurev-conmatphys-031119-050658.pdf) paper on page 2), DTCs break discrete time translation symmetry. However, I was watching [this](https://youtu.be/5l1KxgHH2Ek?feature=shared&t=487) PBS Space Time video that says that DTCs break continuous time translation symmetry while maintaining discrete time symmetry. I have two main questions:\\n\\n1. What's the different between the two?\\n2. Is there a mistake in the PBS video?   \n",
       "668                                                                                                                                                                                                   After learning that hydrogen is the most abundant and is the lightest element in the universe, my mind instantly started racing about how the inevitable movement of the universe is towards refinement. Idk if there’s a better word for it. I guess I’d like to know if it’s a matter of hydrogen being so abundant since the Big Bang, or if there’s some larger process that I don’t know of which leads to the abundance of hydrogen. \\nThanks!   \n",
       "\n",
       "      subreddit  \n",
       "664  askscience  \n",
       "665  askscience  \n",
       "666  askscience  \n",
       "667  askscience  \n",
       "668  askscience  "
      ]
     },
     "execution_count": 296,
     "metadata": {},
     "output_type": "execute_result"
    }
   ],
   "source": [
    "get_reddit_posts('askscience')"
   ]
  },
  {
   "cell_type": "code",
   "execution_count": 297,
   "id": "105a6730-d0eb-4650-9965-e0ff5792fd53",
   "metadata": {
    "tags": []
   },
   "outputs": [
    {
     "data": {
      "text/html": [
       "<div>\n",
       "<style scoped>\n",
       "    .dataframe tbody tr th:only-of-type {\n",
       "        vertical-align: middle;\n",
       "    }\n",
       "\n",
       "    .dataframe tbody tr th {\n",
       "        vertical-align: top;\n",
       "    }\n",
       "\n",
       "    .dataframe thead th {\n",
       "        text-align: right;\n",
       "    }\n",
       "</style>\n",
       "<table border=\"1\" class=\"dataframe\">\n",
       "  <thead>\n",
       "    <tr style=\"text-align: right;\">\n",
       "      <th></th>\n",
       "      <th>created_utc</th>\n",
       "      <th>title</th>\n",
       "      <th>self_text</th>\n",
       "      <th>subreddit</th>\n",
       "    </tr>\n",
       "  </thead>\n",
       "  <tbody>\n",
       "    <tr>\n",
       "      <th>988</th>\n",
       "      <td>1.708661e+09</td>\n",
       "      <td>What is the history of debate in modern style legislatures in relatively mature systems? How true is the narrative of it being ruined by modern crowd pleasing.</td>\n",
       "      <td>The British Parliament and the English parliament from probably William III onwards, the Reichstag at the time of the HRE, the American Congress, the French Parliament after 1871, bodies like that. \\n\\nPeople like to imagine it like the theme park version of a wise statesman giving a moving speech on a vital issue that persuades everyone because they are just so right,  waving their arms like a Roman Senator, and that it was merely a dilatory tactic, and that it was ruined by the camera in the chamber and the committee room making it a public spectacle and wasting time with no effort like in an American filibuster in the Senate and it is now all for getting likes on Twitter or something you can mail out.</td>\n",
       "      <td>AskHistorians</td>\n",
       "    </tr>\n",
       "    <tr>\n",
       "      <th>989</th>\n",
       "      <td>1.708660e+09</td>\n",
       "      <td>What was the way to Take a Castle?</td>\n",
       "      <td>What was generally the best way to capture a Medieval castle? Did those besieging the fortress have better luck with digging a tunnel or using siege machines (or other)?</td>\n",
       "      <td>AskHistorians</td>\n",
       "    </tr>\n",
       "    <tr>\n",
       "      <th>990</th>\n",
       "      <td>1.708660e+09</td>\n",
       "      <td>Was the Early Church Catholic?</td>\n",
       "      <td>Was first-century Christianity Catholic? How was early Christianity the same or different?</td>\n",
       "      <td>AskHistorians</td>\n",
       "    </tr>\n",
       "    <tr>\n",
       "      <th>991</th>\n",
       "      <td>1.708660e+09</td>\n",
       "      <td>What is the difference between History and Historical Theology, and how can I become a professor of history?</td>\n",
       "      <td>Would anyone be able to give me a simple explanation of the difference between history and historical theology? Is Historical theology more theology than history? \\n\\nLastly, I know that there are fewer history faculty positions now than even in 2008. However, what pathway should a person take to teach history in college?</td>\n",
       "      <td>AskHistorians</td>\n",
       "    </tr>\n",
       "    <tr>\n",
       "      <th>992</th>\n",
       "      <td>1.708659e+09</td>\n",
       "      <td>What are some recommendations for the periodization of European history?</td>\n",
       "      <td>Hello!  \\nI am reaching out to see if anyone has any recommendations on scholarly texts that give clear date ranges for the medieval, Renaissance, and early modern periods. In researching periodization, I have found several sources that problematize existing schema without proposing new date ranges, and others that propose widely varying breakdowns. As the assignation of beginning and end dates is somewhat arbitrary, no model is perfect, but periodization remains a practical tool of which I need to make use. I have to cite a reputable source for the dates I propose, so I'm hoping the European history buffs among us could make some suggestions.  \\nMy thanks in advance.  \\n–M</td>\n",
       "      <td>AskHistorians</td>\n",
       "    </tr>\n",
       "  </tbody>\n",
       "</table>\n",
       "</div>"
      ],
      "text/plain": [
       "      created_utc  \\\n",
       "988  1.708661e+09   \n",
       "989  1.708660e+09   \n",
       "990  1.708660e+09   \n",
       "991  1.708660e+09   \n",
       "992  1.708659e+09   \n",
       "\n",
       "                                                                                                                                                               title  \\\n",
       "988  What is the history of debate in modern style legislatures in relatively mature systems? How true is the narrative of it being ruined by modern crowd pleasing.   \n",
       "989                                                                                                                               What was the way to Take a Castle?   \n",
       "990                                                                                                                                   Was the Early Church Catholic?   \n",
       "991                                                     What is the difference between History and Historical Theology, and how can I become a professor of history?   \n",
       "992                                                                                         What are some recommendations for the periodization of European history?   \n",
       "\n",
       "                                                                                                                                                                                                                                                                                                                                                                                                                                                                                                                                                                                                                                                                                                                                     self_text  \\\n",
       "988  The British Parliament and the English parliament from probably William III onwards, the Reichstag at the time of the HRE, the American Congress, the French Parliament after 1871, bodies like that. \\n\\nPeople like to imagine it like the theme park version of a wise statesman giving a moving speech on a vital issue that persuades everyone because they are just so right,  waving their arms like a Roman Senator, and that it was merely a dilatory tactic, and that it was ruined by the camera in the chamber and the committee room making it a public spectacle and wasting time with no effort like in an American filibuster in the Senate and it is now all for getting likes on Twitter or something you can mail out.   \n",
       "989                                                                                                                                                                                                                                                                                                                                                                                                                                                                                                                                                                 What was generally the best way to capture a Medieval castle? Did those besieging the fortress have better luck with digging a tunnel or using siege machines (or other)?    \n",
       "990                                                                                                                                                                                                                                                                                                                                                                                                                                                                                                                                                                                                                                                Was first-century Christianity Catholic? How was early Christianity the same or different?    \n",
       "991                                                                                                                                                                                                                                                                                                                                                                                                       Would anyone be able to give me a simple explanation of the difference between history and historical theology? Is Historical theology more theology than history? \\n\\nLastly, I know that there are fewer history faculty positions now than even in 2008. However, what pathway should a person take to teach history in college?    \n",
       "992                                 Hello!  \\nI am reaching out to see if anyone has any recommendations on scholarly texts that give clear date ranges for the medieval, Renaissance, and early modern periods. In researching periodization, I have found several sources that problematize existing schema without proposing new date ranges, and others that propose widely varying breakdowns. As the assignation of beginning and end dates is somewhat arbitrary, no model is perfect, but periodization remains a practical tool of which I need to make use. I have to cite a reputable source for the dates I propose, so I'm hoping the European history buffs among us could make some suggestions.  \\nMy thanks in advance.  \\n–M   \n",
       "\n",
       "         subreddit  \n",
       "988  AskHistorians  \n",
       "989  AskHistorians  \n",
       "990  AskHistorians  \n",
       "991  AskHistorians  \n",
       "992  AskHistorians  "
      ]
     },
     "execution_count": 297,
     "metadata": {},
     "output_type": "execute_result"
    }
   ],
   "source": [
    "get_reddit_posts('askhistorians')"
   ]
  },
  {
   "cell_type": "code",
   "execution_count": 298,
   "id": "26b436af-b7d4-4ce0-81cf-f557d0ec04b5",
   "metadata": {
    "tags": []
   },
   "outputs": [],
   "source": [
    "# Combine askhistorian data \n",
    "df_hist_1 = pd.read_csv('datasets/askhistorians_2024-02-27.csv')\n",
    "df_hist_2 = pd.read_csv('datasets/askhistorians_2024-03-03-1.csv')\n",
    "df_hist_3 = pd.read_csv('datasets/askhistorians_2024-03-03.csv')\n",
    "\n",
    "\n",
    "df_big_hist = pd.concat([df_hist_1, df_hist_2, df_hist_3], ignore_index=True)\n",
    "df_big_hist.drop_duplicates(inplace=True)\n",
    "df_big_hist.to_csv('datasets/askhistorians_mega.csv')"
   ]
  },
  {
   "cell_type": "code",
   "execution_count": 299,
   "id": "4176e0ee-21d4-4c24-b182-acfb5385448f",
   "metadata": {
    "tags": []
   },
   "outputs": [],
   "source": [
    "# Combine askscience data \n",
    "df_sci_1 = pd.read_csv('datasets/askscience_2024-02-27.csv')\n",
    "df_sci_2 = pd.read_csv('datasets/askscience_2024-03-03-1.csv')\n",
    "df_sci_3 = pd.read_csv('datasets/askscience_2024-03-03.csv')\n",
    "\n",
    "\n",
    "df_big_sci = pd.concat([df_sci_1, df_sci_2, df_sci_3], ignore_index=True)\n",
    "df_big_sci.drop_duplicates(inplace=True)\n",
    "df_big_sci.to_csv('datasets/askscience_mega.csv')"
   ]
  },
  {
   "cell_type": "code",
   "execution_count": 8,
   "id": "06601567-4356-40b5-95fb-356191ce70ff",
   "metadata": {
    "tags": []
   },
   "outputs": [
    {
     "ename": "NameError",
     "evalue": "name 'df_big_sci' is not defined",
     "output_type": "error",
     "traceback": [
      "\u001b[1;31m---------------------------------------------------------------------------\u001b[0m",
      "\u001b[1;31mNameError\u001b[0m                                 Traceback (most recent call last)",
      "Cell \u001b[1;32mIn[8], line 3\u001b[0m\n\u001b[0;32m      1\u001b[0m \u001b[38;5;66;03m#combine and shuffle both subreddit\u001b[39;00m\n\u001b[1;32m----> 3\u001b[0m df \u001b[38;5;241m=\u001b[39m pd\u001b[38;5;241m.\u001b[39mconcat([df_big_sci, df_big_hist], ignore_index\u001b[38;5;241m=\u001b[39m\u001b[38;5;28;01mTrue\u001b[39;00m)\n\u001b[0;32m      4\u001b[0m df\u001b[38;5;241m.\u001b[39msample(frac\u001b[38;5;241m=\u001b[39m\u001b[38;5;241m1\u001b[39m)\u001b[38;5;241m.\u001b[39mto_csv(\u001b[38;5;124m'\u001b[39m\u001b[38;5;124mdatasets/subreddits.csv\u001b[39m\u001b[38;5;124m'\u001b[39m)\n",
      "\u001b[1;31mNameError\u001b[0m: name 'df_big_sci' is not defined"
     ]
    }
   ],
   "source": [
    "#combine and shuffle both subreddit\n",
    "\n",
    "df = pd.concat([df_big_sci, df_big_hist], ignore_index=True)\n",
    "df.sample(frac=1).to_csv('datasets/subreddits.csv')"
   ]
  },
  {
   "cell_type": "code",
   "execution_count": 9,
   "id": "94bec2d9-5869-4504-9507-23dbdf541a85",
   "metadata": {
    "tags": []
   },
   "outputs": [
    {
     "ename": "NameError",
     "evalue": "name 'df' is not defined",
     "output_type": "error",
     "traceback": [
      "\u001b[1;31m---------------------------------------------------------------------------\u001b[0m",
      "\u001b[1;31mNameError\u001b[0m                                 Traceback (most recent call last)",
      "Cell \u001b[1;32mIn[9], line 1\u001b[0m\n\u001b[1;32m----> 1\u001b[0m df \u001b[38;5;241m=\u001b[39m df\u001b[38;5;241m.\u001b[39msample(frac\u001b[38;5;241m=\u001b[39m\u001b[38;5;241m1\u001b[39m)\n",
      "\u001b[1;31mNameError\u001b[0m: name 'df' is not defined"
     ]
    }
   ],
   "source": [
    "df = df.sample(frac=1)"
   ]
  },
  {
   "cell_type": "code",
   "execution_count": 10,
   "id": "e220a7ed-bd88-47fa-88bd-2cf630c98634",
   "metadata": {
    "tags": []
   },
   "outputs": [],
   "source": [
    "df = pd.read_csv('datasets/subreddits.csv')"
   ]
  },
  {
   "cell_type": "markdown",
   "id": "832dd083-3c40-449b-8867-581b6786e9cc",
   "metadata": {
    "tags": []
   },
   "source": [
    "# EDA and Cleaning"
   ]
  },
  {
   "cell_type": "code",
   "execution_count": 11,
   "id": "98523919-a5cc-4f12-99c9-26da8139f082",
   "metadata": {
    "tags": []
   },
   "outputs": [
    {
     "data": {
      "text/html": [
       "<div>\n",
       "<style scoped>\n",
       "    .dataframe tbody tr th:only-of-type {\n",
       "        vertical-align: middle;\n",
       "    }\n",
       "\n",
       "    .dataframe tbody tr th {\n",
       "        vertical-align: top;\n",
       "    }\n",
       "\n",
       "    .dataframe thead th {\n",
       "        text-align: right;\n",
       "    }\n",
       "</style>\n",
       "<table border=\"1\" class=\"dataframe\">\n",
       "  <thead>\n",
       "    <tr style=\"text-align: right;\">\n",
       "      <th></th>\n",
       "      <th>Unnamed: 0.1</th>\n",
       "      <th>Unnamed: 0</th>\n",
       "      <th>created_utc</th>\n",
       "      <th>title</th>\n",
       "      <th>self_text</th>\n",
       "      <th>subreddit</th>\n",
       "    </tr>\n",
       "  </thead>\n",
       "  <tbody>\n",
       "    <tr>\n",
       "      <th>0</th>\n",
       "      <td>565</td>\n",
       "      <td>565</td>\n",
       "      <td>1.699044e+09</td>\n",
       "      <td>Does the earth get more homogeneous over time?</td>\n",
       "      <td>My wife and I are rock hounds and during a recent purchase of a large (very expensive) statement pierce I started wondering if people (or creatures of some sort) a billion years from now will have the same variety of mineral and crystal deposits to reap from? Or  will the constant motion of plates tectonics  with subduction and divergent/convergent boundaries keep mixing up minerals and elements until all bedrock stone is homogeneous and all the same effectively making mineral deposits that aren’t formed using water extinct? \\n\\nNote: I may or may not have been a little high when this thought crossed my mind</td>\n",
       "      <td>askscience</td>\n",
       "    </tr>\n",
       "    <tr>\n",
       "      <th>1</th>\n",
       "      <td>4206</td>\n",
       "      <td>878</td>\n",
       "      <td>1.603809e+09</td>\n",
       "      <td>Even though much is lost, the overwhelming majority of public knowledge on Western Phoenician civilization is centred on Carthage and it’s empire. But what do we know about the inner workings of other large Punic polities like Utica in North Africa and Agadir/Gadir in Spain?</td>\n",
       "      <td>I’ve studied Punic civilization quite a lot, and for obvious reasons Carthage predominates the scholarship massively.  But while I know that Gadir is older and had a very important temple to Melqart, and that Utica was the second largest Phoenician/Punic settlement in North Africa (I believe), I don’t really know much else about them or other non-Carthaginian Punic settlements.  What do we know of their governments, people, traditions, economies, and the like?\\n\\nHoly carp three awards for asking a question?  Thanks community!</td>\n",
       "      <td>AskHistorians</td>\n",
       "    </tr>\n",
       "    <tr>\n",
       "      <th>2</th>\n",
       "      <td>4452</td>\n",
       "      <td>126</td>\n",
       "      <td>1.709433e+09</td>\n",
       "      <td>What did European travellers and missionaries to Asia think about Chinese movable type printing press?</td>\n",
       "      <td>Were they surprised to find that Gutenberg had been preceded by the Chinese (even though Gutenberg's press was different and more efficient than the former)? Did they ever hypothesize about Gutenberg being somehow influenced by this Asian technology?\\n\\nThanks in advance.</td>\n",
       "      <td>AskHistorians</td>\n",
       "    </tr>\n",
       "  </tbody>\n",
       "</table>\n",
       "</div>"
      ],
      "text/plain": [
       "   Unnamed: 0.1  Unnamed: 0   created_utc  \\\n",
       "0           565         565  1.699044e+09   \n",
       "1          4206         878  1.603809e+09   \n",
       "2          4452         126  1.709433e+09   \n",
       "\n",
       "                                                                                                                                                                                                                                                                                 title  \\\n",
       "0                                                                                                                                                                                                                                       Does the earth get more homogeneous over time?   \n",
       "1  Even though much is lost, the overwhelming majority of public knowledge on Western Phoenician civilization is centred on Carthage and it’s empire. But what do we know about the inner workings of other large Punic polities like Utica in North Africa and Agadir/Gadir in Spain?   \n",
       "2                                                                                                                                                                               What did European travellers and missionaries to Asia think about Chinese movable type printing press?   \n",
       "\n",
       "                                                                                                                                                                                                                                                                                                                                                                                                                                                                                                                                                                                                                                 self_text  \\\n",
       "0  My wife and I are rock hounds and during a recent purchase of a large (very expensive) statement pierce I started wondering if people (or creatures of some sort) a billion years from now will have the same variety of mineral and crystal deposits to reap from? Or  will the constant motion of plates tectonics  with subduction and divergent/convergent boundaries keep mixing up minerals and elements until all bedrock stone is homogeneous and all the same effectively making mineral deposits that aren’t formed using water extinct? \\n\\nNote: I may or may not have been a little high when this thought crossed my mind   \n",
       "1                                                                                     I’ve studied Punic civilization quite a lot, and for obvious reasons Carthage predominates the scholarship massively.  But while I know that Gadir is older and had a very important temple to Melqart, and that Utica was the second largest Phoenician/Punic settlement in North Africa (I believe), I don’t really know much else about them or other non-Carthaginian Punic settlements.  What do we know of their governments, people, traditions, economies, and the like?\\n\\nHoly carp three awards for asking a question?  Thanks community!   \n",
       "2                                                                                                                                                                                                                                                                                                                                                         Were they surprised to find that Gutenberg had been preceded by the Chinese (even though Gutenberg's press was different and more efficient than the former)? Did they ever hypothesize about Gutenberg being somehow influenced by this Asian technology?\\n\\nThanks in advance.   \n",
       "\n",
       "       subreddit  \n",
       "0     askscience  \n",
       "1  AskHistorians  \n",
       "2  AskHistorians  "
      ]
     },
     "execution_count": 11,
     "metadata": {},
     "output_type": "execute_result"
    }
   ],
   "source": [
    "df.head(3)"
   ]
  },
  {
   "cell_type": "code",
   "execution_count": 12,
   "id": "ce82dafd-e9e8-42ca-925c-464c63a1bdda",
   "metadata": {
    "tags": []
   },
   "outputs": [
    {
     "data": {
      "text/plain": [
       "Unnamed: 0.1       0\n",
       "Unnamed: 0         0\n",
       "created_utc        0\n",
       "title              0\n",
       "self_text       1505\n",
       "subreddit          0\n",
       "dtype: int64"
      ]
     },
     "execution_count": 12,
     "metadata": {},
     "output_type": "execute_result"
    }
   ],
   "source": [
    "df.isna().sum()"
   ]
  },
  {
   "cell_type": "code",
   "execution_count": 13,
   "id": "5e8ace53-e249-4764-9ca0-9361086a5d53",
   "metadata": {
    "tags": []
   },
   "outputs": [],
   "source": [
    "df = df.dropna()"
   ]
  },
  {
   "cell_type": "code",
   "execution_count": null,
   "id": "1831f575-9e9f-44a9-aeac-147b019feaa8",
   "metadata": {
    "tags": []
   },
   "outputs": [],
   "source": []
  },
  {
   "cell_type": "code",
   "execution_count": 14,
   "id": "435bf8f2-3875-48c1-b73c-ba1ed5d62862",
   "metadata": {},
   "outputs": [],
   "source": [
    "df = df.drop(columns='Unnamed: 0')"
   ]
  },
  {
   "cell_type": "code",
   "execution_count": 15,
   "id": "f14c8526-9591-4aed-9a31-c5fbe3029de8",
   "metadata": {
    "tags": []
   },
   "outputs": [],
   "source": [
    "df['created_utc'] = pd.to_datetime(df['created_utc'])"
   ]
  },
  {
   "cell_type": "code",
   "execution_count": 16,
   "id": "b0edebb4-b368-4c77-b710-821b61327ca4",
   "metadata": {
    "tags": []
   },
   "outputs": [],
   "source": [
    "df['text'] = df['self_text']"
   ]
  },
  {
   "cell_type": "code",
   "execution_count": 17,
   "id": "fbeba9fb-ef6c-4b27-ae99-1a03c5714904",
   "metadata": {
    "tags": []
   },
   "outputs": [],
   "source": [
    "df[\"full_text\"] = df[\"title\"] + \" \" + df[\"self_text\"]\n"
   ]
  },
  {
   "cell_type": "code",
   "execution_count": 18,
   "id": "913b923d-4949-4041-b965-28b4278b5272",
   "metadata": {
    "tags": []
   },
   "outputs": [
    {
     "data": {
      "text/html": [
       "<div>\n",
       "<style scoped>\n",
       "    .dataframe tbody tr th:only-of-type {\n",
       "        vertical-align: middle;\n",
       "    }\n",
       "\n",
       "    .dataframe tbody tr th {\n",
       "        vertical-align: top;\n",
       "    }\n",
       "\n",
       "    .dataframe thead th {\n",
       "        text-align: right;\n",
       "    }\n",
       "</style>\n",
       "<table border=\"1\" class=\"dataframe\">\n",
       "  <thead>\n",
       "    <tr style=\"text-align: right;\">\n",
       "      <th></th>\n",
       "      <th>Unnamed: 0.1</th>\n",
       "      <th>created_utc</th>\n",
       "      <th>title</th>\n",
       "      <th>self_text</th>\n",
       "      <th>subreddit</th>\n",
       "      <th>text</th>\n",
       "      <th>full_text</th>\n",
       "    </tr>\n",
       "  </thead>\n",
       "  <tbody>\n",
       "    <tr>\n",
       "      <th>2251</th>\n",
       "      <td>913</td>\n",
       "      <td>1970-01-01 00:00:01.567385147</td>\n",
       "      <td>How do super storms like Hurricane Dorian affect marine life as the storm travels through the area? Do they affect deep sea creatures?</td>\n",
       "      <td>Edit: Thank you, anonymous do-gooder for the gold! They say it is better to give than to receive, but this is my first gold so I gotta say this feels pretty darn good!</td>\n",
       "      <td>askscience</td>\n",
       "      <td>Edit: Thank you, anonymous do-gooder for the gold! They say it is better to give than to receive, but this is my first gold so I gotta say this feels pretty darn good!</td>\n",
       "      <td>How do super storms like Hurricane Dorian affect marine life as the storm travels through the area? Do they affect deep sea creatures? Edit: Thank you, anonymous do-gooder for the gold! They say it is better to give than to receive, but this is my first gold so I gotta say this feels pretty darn good!</td>\n",
       "    </tr>\n",
       "    <tr>\n",
       "      <th>2612</th>\n",
       "      <td>4821</td>\n",
       "      <td>1970-01-01 00:00:01.709077562</td>\n",
       "      <td>Why are the French considered \"white\"?</td>\n",
       "      <td>This question comes with baggage and is bases on some loose assumptions that may be true. When I ask why the French are considered white, I mean why are they considered white to the far right in countries like Germany, the United Kingdom, and the United States. It seems a common reason why for example the Irish or Polish were not considered white was because they were Catholic and thus co sidereal inferior. So why then are the French exempted and viewed widely as white despite being very catholic themselves? Perhaps this is based on a false premise that race and religion are connected in ways that they are not, but I can't see why Irish immigrants wouldn't be seen as white otherwise (excluding the Ulster Irish, who were considered white because they were protestant). Obviously I am asking this moreso in reference to Germanic White supremacist in anglophone and Germanic countries , because I am sure the French do regard themselves as white. Does it have something to do with the franks?</td>\n",
       "      <td>AskHistorians</td>\n",
       "      <td>This question comes with baggage and is bases on some loose assumptions that may be true. When I ask why the French are considered white, I mean why are they considered white to the far right in countries like Germany, the United Kingdom, and the United States. It seems a common reason why for example the Irish or Polish were not considered white was because they were Catholic and thus co sidereal inferior. So why then are the French exempted and viewed widely as white despite being very catholic themselves? Perhaps this is based on a false premise that race and religion are connected in ways that they are not, but I can't see why Irish immigrants wouldn't be seen as white otherwise (excluding the Ulster Irish, who were considered white because they were protestant). Obviously I am asking this moreso in reference to Germanic White supremacist in anglophone and Germanic countries , because I am sure the French do regard themselves as white. Does it have something to do with the franks?</td>\n",
       "      <td>Why are the French considered \"white\"? This question comes with baggage and is bases on some loose assumptions that may be true. When I ask why the French are considered white, I mean why are they considered white to the far right in countries like Germany, the United Kingdom, and the United States. It seems a common reason why for example the Irish or Polish were not considered white was because they were Catholic and thus co sidereal inferior. So why then are the French exempted and viewed widely as white despite being very catholic themselves? Perhaps this is based on a false premise that race and religion are connected in ways that they are not, but I can't see why Irish immigrants wouldn't be seen as white otherwise (excluding the Ulster Irish, who were considered white because they were protestant). Obviously I am asking this moreso in reference to Germanic White supremacist in anglophone and Germanic countries , because I am sure the French do regard themselves as white. Does it have something to do with the franks?</td>\n",
       "    </tr>\n",
       "    <tr>\n",
       "      <th>3353</th>\n",
       "      <td>425</td>\n",
       "      <td>1970-01-01 00:00:01.701176406</td>\n",
       "      <td>Why does this happen when it frosts?</td>\n",
       "      <td>https://www.reddit.com/r/Damnthatsinteresting/s/WKlLoWrezW</td>\n",
       "      <td>askscience</td>\n",
       "      <td>https://www.reddit.com/r/Damnthatsinteresting/s/WKlLoWrezW</td>\n",
       "      <td>Why does this happen when it frosts? https://www.reddit.com/r/Damnthatsinteresting/s/WKlLoWrezW</td>\n",
       "    </tr>\n",
       "    <tr>\n",
       "      <th>4775</th>\n",
       "      <td>4911</td>\n",
       "      <td>1970-01-01 00:00:01.708999250</td>\n",
       "      <td>Was Napoleon doomed to fail no matter what he did?</td>\n",
       "      <td>It seems like the economic power of Great Britain was the greatest obstacle in Napoleon’s path to ruling Europe. Is there anything he could have done differently to achieve that goal?</td>\n",
       "      <td>AskHistorians</td>\n",
       "      <td>It seems like the economic power of Great Britain was the greatest obstacle in Napoleon’s path to ruling Europe. Is there anything he could have done differently to achieve that goal?</td>\n",
       "      <td>Was Napoleon doomed to fail no matter what he did?  It seems like the economic power of Great Britain was the greatest obstacle in Napoleon’s path to ruling Europe. Is there anything he could have done differently to achieve that goal?</td>\n",
       "    </tr>\n",
       "    <tr>\n",
       "      <th>3709</th>\n",
       "      <td>1525</td>\n",
       "      <td>1970-01-01 00:00:01.601117734</td>\n",
       "      <td>The oxygen level rise to 30% in the carboniferous period and is now 21%. What happened to the extra oxygen?</td>\n",
       "      <td>What happened to the oxygen in the atmosphere after the carboniferous period to make it go down to 21%, specifically where did the extra oxygen go?</td>\n",
       "      <td>askscience</td>\n",
       "      <td>What happened to the oxygen in the atmosphere after the carboniferous period to make it go down to 21%, specifically where did the extra oxygen go?</td>\n",
       "      <td>The oxygen level rise to 30% in the carboniferous period and is now 21%. What happened to the extra oxygen? What happened to the oxygen in the atmosphere after the carboniferous period to make it go down to 21%, specifically where did the extra oxygen go?</td>\n",
       "    </tr>\n",
       "    <tr>\n",
       "      <th>3484</th>\n",
       "      <td>2757</td>\n",
       "      <td>1970-01-01 00:00:01.708718708</td>\n",
       "      <td>What were the requirements to become an Army chaplain during the Vietnam war?</td>\n",
       "      <td>Are they the same today? Did they only allow for the major religions? What if someone was a lesser known Native American religion could they petition for approval?\\nThank you!</td>\n",
       "      <td>AskHistorians</td>\n",
       "      <td>Are they the same today? Did they only allow for the major religions? What if someone was a lesser known Native American religion could they petition for approval?\\nThank you!</td>\n",
       "      <td>What were the requirements to become an Army chaplain during the Vietnam war? Are they the same today? Did they only allow for the major religions? What if someone was a lesser known Native American religion could they petition for approval?\\nThank you!</td>\n",
       "    </tr>\n",
       "    <tr>\n",
       "      <th>128</th>\n",
       "      <td>1827</td>\n",
       "      <td>1970-01-01 00:00:01.705970453</td>\n",
       "      <td>Are cold sores (or any other form of herpes) always triggered, or do they break out randomly?</td>\n",
       "      <td>After doing some reading I have heard that herpes viruses tend to break out in a person after a variety of triggers, such as stress, sun exposure, illness, hormonal changes etc…, and people can avoid outbreaks by avoiding these causes.  These sources have also stated, however, that it is unclear whether or not these directly impact outbreaks. Furthermore, it is known that lots of people with herpes tend to never show any symptoms, while others may experience them highly frequently. Is there a definite correlation between these triggers and outbreaks, and can a person’s immune system or genetics play a role in their occurrences?</td>\n",
       "      <td>askscience</td>\n",
       "      <td>After doing some reading I have heard that herpes viruses tend to break out in a person after a variety of triggers, such as stress, sun exposure, illness, hormonal changes etc…, and people can avoid outbreaks by avoiding these causes.  These sources have also stated, however, that it is unclear whether or not these directly impact outbreaks. Furthermore, it is known that lots of people with herpes tend to never show any symptoms, while others may experience them highly frequently. Is there a definite correlation between these triggers and outbreaks, and can a person’s immune system or genetics play a role in their occurrences?</td>\n",
       "      <td>Are cold sores (or any other form of herpes) always triggered, or do they break out randomly? After doing some reading I have heard that herpes viruses tend to break out in a person after a variety of triggers, such as stress, sun exposure, illness, hormonal changes etc…, and people can avoid outbreaks by avoiding these causes.  These sources have also stated, however, that it is unclear whether or not these directly impact outbreaks. Furthermore, it is known that lots of people with herpes tend to never show any symptoms, while others may experience them highly frequently. Is there a definite correlation between these triggers and outbreaks, and can a person’s immune system or genetics play a role in their occurrences?</td>\n",
       "    </tr>\n",
       "    <tr>\n",
       "      <th>2621</th>\n",
       "      <td>5095</td>\n",
       "      <td>1970-01-01 00:00:01.708842396</td>\n",
       "      <td>What motivated US politicians to go from patronage to meritocracy?</td>\n",
       "      <td>It seems patronage would produce a lot of gravy for incumbents and help produce political machines. What motivated US politicians to switch to a meritocracy system?\\n\\nThanks</td>\n",
       "      <td>AskHistorians</td>\n",
       "      <td>It seems patronage would produce a lot of gravy for incumbents and help produce political machines. What motivated US politicians to switch to a meritocracy system?\\n\\nThanks</td>\n",
       "      <td>What motivated US politicians to go from patronage to meritocracy? It seems patronage would produce a lot of gravy for incumbents and help produce political machines. What motivated US politicians to switch to a meritocracy system?\\n\\nThanks</td>\n",
       "    </tr>\n",
       "    <tr>\n",
       "      <th>5299</th>\n",
       "      <td>70</td>\n",
       "      <td>1970-01-01 00:00:01.707341225</td>\n",
       "      <td>How do scientists who clone animals account for imprinted genes?</td>\n",
       "      <td>So I've learned a good deal about imprinted genes and disorders associated with imprinting in my education. I've also heard of but never really studied the process of producing an animal in a lab with a single set of maternal DNA. It seems to me that for this to be done successfully whoever is producing this animal would need to find a way of reproducing methylation patterns that occur during spermatogenesis otherwise the resulting specimen would be unviable. I assume I am either grossly misinformed about how cloning animals work or am missing an important part about imprinting. Thanks for any help this question has been driving me crazy since I first heard about imprinting but don't feel compiled to invest the time it would take to figure it out myself.</td>\n",
       "      <td>askscience</td>\n",
       "      <td>So I've learned a good deal about imprinted genes and disorders associated with imprinting in my education. I've also heard of but never really studied the process of producing an animal in a lab with a single set of maternal DNA. It seems to me that for this to be done successfully whoever is producing this animal would need to find a way of reproducing methylation patterns that occur during spermatogenesis otherwise the resulting specimen would be unviable. I assume I am either grossly misinformed about how cloning animals work or am missing an important part about imprinting. Thanks for any help this question has been driving me crazy since I first heard about imprinting but don't feel compiled to invest the time it would take to figure it out myself.</td>\n",
       "      <td>How do scientists who clone animals account for imprinted genes? So I've learned a good deal about imprinted genes and disorders associated with imprinting in my education. I've also heard of but never really studied the process of producing an animal in a lab with a single set of maternal DNA. It seems to me that for this to be done successfully whoever is producing this animal would need to find a way of reproducing methylation patterns that occur during spermatogenesis otherwise the resulting specimen would be unviable. I assume I am either grossly misinformed about how cloning animals work or am missing an important part about imprinting. Thanks for any help this question has been driving me crazy since I first heard about imprinting but don't feel compiled to invest the time it would take to figure it out myself.</td>\n",
       "    </tr>\n",
       "    <tr>\n",
       "      <th>4004</th>\n",
       "      <td>289</td>\n",
       "      <td>1970-01-01 00:00:01.703963596</td>\n",
       "      <td>What is the oldest species of animal that is still extant?</td>\n",
       "      <td>I know animals evolve over time, so nothing is exactly the same as it’s ancient counterparts, but what animal that still currently exists has been around and mostly unchanged for the longest time according to fossils and other evidence we’ve found?</td>\n",
       "      <td>askscience</td>\n",
       "      <td>I know animals evolve over time, so nothing is exactly the same as it’s ancient counterparts, but what animal that still currently exists has been around and mostly unchanged for the longest time according to fossils and other evidence we’ve found?</td>\n",
       "      <td>What is the oldest species of animal that is still extant? I know animals evolve over time, so nothing is exactly the same as it’s ancient counterparts, but what animal that still currently exists has been around and mostly unchanged for the longest time according to fossils and other evidence we’ve found?</td>\n",
       "    </tr>\n",
       "  </tbody>\n",
       "</table>\n",
       "</div>"
      ],
      "text/plain": [
       "      Unnamed: 0.1                   created_utc  \\\n",
       "2251           913 1970-01-01 00:00:01.567385147   \n",
       "2612          4821 1970-01-01 00:00:01.709077562   \n",
       "3353           425 1970-01-01 00:00:01.701176406   \n",
       "4775          4911 1970-01-01 00:00:01.708999250   \n",
       "3709          1525 1970-01-01 00:00:01.601117734   \n",
       "3484          2757 1970-01-01 00:00:01.708718708   \n",
       "128           1827 1970-01-01 00:00:01.705970453   \n",
       "2621          5095 1970-01-01 00:00:01.708842396   \n",
       "5299            70 1970-01-01 00:00:01.707341225   \n",
       "4004           289 1970-01-01 00:00:01.703963596   \n",
       "\n",
       "                                                                                                                                       title  \\\n",
       "2251  How do super storms like Hurricane Dorian affect marine life as the storm travels through the area? Do they affect deep sea creatures?   \n",
       "2612                                                                                                  Why are the French considered \"white\"?   \n",
       "3353                                                                                                    Why does this happen when it frosts?   \n",
       "4775                                                                                     Was Napoleon doomed to fail no matter what he did?    \n",
       "3709                             The oxygen level rise to 30% in the carboniferous period and is now 21%. What happened to the extra oxygen?   \n",
       "3484                                                           What were the requirements to become an Army chaplain during the Vietnam war?   \n",
       "128                                            Are cold sores (or any other form of herpes) always triggered, or do they break out randomly?   \n",
       "2621                                                                      What motivated US politicians to go from patronage to meritocracy?   \n",
       "5299                                                                        How do scientists who clone animals account for imprinted genes?   \n",
       "4004                                                                              What is the oldest species of animal that is still extant?   \n",
       "\n",
       "                                                                                                                                                                                                                                                                                                                                                                                                                                                                                                                                                                                                                                                                                                                                                                                                                                                                                                                                                                                                                                     self_text  \\\n",
       "2251                                                                                                                                                                                                                                                                                                                                                                                                                                                                                                                                                                                                                                                                                                                                                                                                                                                                   Edit: Thank you, anonymous do-gooder for the gold! They say it is better to give than to receive, but this is my first gold so I gotta say this feels pretty darn good!   \n",
       "2612  This question comes with baggage and is bases on some loose assumptions that may be true. When I ask why the French are considered white, I mean why are they considered white to the far right in countries like Germany, the United Kingdom, and the United States. It seems a common reason why for example the Irish or Polish were not considered white was because they were Catholic and thus co sidereal inferior. So why then are the French exempted and viewed widely as white despite being very catholic themselves? Perhaps this is based on a false premise that race and religion are connected in ways that they are not, but I can't see why Irish immigrants wouldn't be seen as white otherwise (excluding the Ulster Irish, who were considered white because they were protestant). Obviously I am asking this moreso in reference to Germanic White supremacist in anglophone and Germanic countries , because I am sure the French do regard themselves as white. Does it have something to do with the franks?    \n",
       "3353                                                                                                                                                                                                                                                                                                                                                                                                                                                                                                                                                                                                                                                                                                                                                                                                                                                                                                                                                                                https://www.reddit.com/r/Damnthatsinteresting/s/WKlLoWrezW   \n",
       "4775                                                                                                                                                                                                                                                                                                                                                                                                                                                                                                                                                                                                                                                                                                                                                                                                                                                  It seems like the economic power of Great Britain was the greatest obstacle in Napoleon’s path to ruling Europe. Is there anything he could have done differently to achieve that goal?    \n",
       "3709                                                                                                                                                                                                                                                                                                                                                                                                                                                                                                                                                                                                                                                                                                                                                                                                                                                                                       What happened to the oxygen in the atmosphere after the carboniferous period to make it go down to 21%, specifically where did the extra oxygen go?   \n",
       "3484                                                                                                                                                                                                                                                                                                                                                                                                                                                                                                                                                                                                                                                                                                                                                                                                                                                           Are they the same today? Did they only allow for the major religions? What if someone was a lesser known Native American religion could they petition for approval?\\nThank you!   \n",
       "128                                                                                                                                                                                                                                                                                                                                                                                After doing some reading I have heard that herpes viruses tend to break out in a person after a variety of triggers, such as stress, sun exposure, illness, hormonal changes etc…, and people can avoid outbreaks by avoiding these causes.  These sources have also stated, however, that it is unclear whether or not these directly impact outbreaks. Furthermore, it is known that lots of people with herpes tend to never show any symptoms, while others may experience them highly frequently. Is there a definite correlation between these triggers and outbreaks, and can a person’s immune system or genetics play a role in their occurrences?   \n",
       "2621                                                                                                                                                                                                                                                                                                                                                                                                                                                                                                                                                                                                                                                                                                                                                                                                                                                            It seems patronage would produce a lot of gravy for incumbents and help produce political machines. What motivated US politicians to switch to a meritocracy system?\\n\\nThanks   \n",
       "5299                                                                                                                                                                                                                                             So I've learned a good deal about imprinted genes and disorders associated with imprinting in my education. I've also heard of but never really studied the process of producing an animal in a lab with a single set of maternal DNA. It seems to me that for this to be done successfully whoever is producing this animal would need to find a way of reproducing methylation patterns that occur during spermatogenesis otherwise the resulting specimen would be unviable. I assume I am either grossly misinformed about how cloning animals work or am missing an important part about imprinting. Thanks for any help this question has been driving me crazy since I first heard about imprinting but don't feel compiled to invest the time it would take to figure it out myself.    \n",
       "4004                                                                                                                                                                                                                                                                                                                                                                                                                                                                                                                                                                                                                                                                                                                                                                                  I know animals evolve over time, so nothing is exactly the same as it’s ancient counterparts, but what animal that still currently exists has been around and mostly unchanged for the longest time according to fossils and other evidence we’ve found?   \n",
       "\n",
       "          subreddit  \\\n",
       "2251     askscience   \n",
       "2612  AskHistorians   \n",
       "3353     askscience   \n",
       "4775  AskHistorians   \n",
       "3709     askscience   \n",
       "3484  AskHistorians   \n",
       "128      askscience   \n",
       "2621  AskHistorians   \n",
       "5299     askscience   \n",
       "4004     askscience   \n",
       "\n",
       "                                                                                                                                                                                                                                                                                                                                                                                                                                                                                                                                                                                                                                                                                                                                                                                                                                                                                                                                                                                                                                          text  \\\n",
       "2251                                                                                                                                                                                                                                                                                                                                                                                                                                                                                                                                                                                                                                                                                                                                                                                                                                                                   Edit: Thank you, anonymous do-gooder for the gold! They say it is better to give than to receive, but this is my first gold so I gotta say this feels pretty darn good!   \n",
       "2612  This question comes with baggage and is bases on some loose assumptions that may be true. When I ask why the French are considered white, I mean why are they considered white to the far right in countries like Germany, the United Kingdom, and the United States. It seems a common reason why for example the Irish or Polish were not considered white was because they were Catholic and thus co sidereal inferior. So why then are the French exempted and viewed widely as white despite being very catholic themselves? Perhaps this is based on a false premise that race and religion are connected in ways that they are not, but I can't see why Irish immigrants wouldn't be seen as white otherwise (excluding the Ulster Irish, who were considered white because they were protestant). Obviously I am asking this moreso in reference to Germanic White supremacist in anglophone and Germanic countries , because I am sure the French do regard themselves as white. Does it have something to do with the franks?    \n",
       "3353                                                                                                                                                                                                                                                                                                                                                                                                                                                                                                                                                                                                                                                                                                                                                                                                                                                                                                                                                                                https://www.reddit.com/r/Damnthatsinteresting/s/WKlLoWrezW   \n",
       "4775                                                                                                                                                                                                                                                                                                                                                                                                                                                                                                                                                                                                                                                                                                                                                                                                                                                  It seems like the economic power of Great Britain was the greatest obstacle in Napoleon’s path to ruling Europe. Is there anything he could have done differently to achieve that goal?    \n",
       "3709                                                                                                                                                                                                                                                                                                                                                                                                                                                                                                                                                                                                                                                                                                                                                                                                                                                                                       What happened to the oxygen in the atmosphere after the carboniferous period to make it go down to 21%, specifically where did the extra oxygen go?   \n",
       "3484                                                                                                                                                                                                                                                                                                                                                                                                                                                                                                                                                                                                                                                                                                                                                                                                                                                           Are they the same today? Did they only allow for the major religions? What if someone was a lesser known Native American religion could they petition for approval?\\nThank you!   \n",
       "128                                                                                                                                                                                                                                                                                                                                                                                After doing some reading I have heard that herpes viruses tend to break out in a person after a variety of triggers, such as stress, sun exposure, illness, hormonal changes etc…, and people can avoid outbreaks by avoiding these causes.  These sources have also stated, however, that it is unclear whether or not these directly impact outbreaks. Furthermore, it is known that lots of people with herpes tend to never show any symptoms, while others may experience them highly frequently. Is there a definite correlation between these triggers and outbreaks, and can a person’s immune system or genetics play a role in their occurrences?   \n",
       "2621                                                                                                                                                                                                                                                                                                                                                                                                                                                                                                                                                                                                                                                                                                                                                                                                                                                            It seems patronage would produce a lot of gravy for incumbents and help produce political machines. What motivated US politicians to switch to a meritocracy system?\\n\\nThanks   \n",
       "5299                                                                                                                                                                                                                                             So I've learned a good deal about imprinted genes and disorders associated with imprinting in my education. I've also heard of but never really studied the process of producing an animal in a lab with a single set of maternal DNA. It seems to me that for this to be done successfully whoever is producing this animal would need to find a way of reproducing methylation patterns that occur during spermatogenesis otherwise the resulting specimen would be unviable. I assume I am either grossly misinformed about how cloning animals work or am missing an important part about imprinting. Thanks for any help this question has been driving me crazy since I first heard about imprinting but don't feel compiled to invest the time it would take to figure it out myself.    \n",
       "4004                                                                                                                                                                                                                                                                                                                                                                                                                                                                                                                                                                                                                                                                                                                                                                                  I know animals evolve over time, so nothing is exactly the same as it’s ancient counterparts, but what animal that still currently exists has been around and mostly unchanged for the longest time according to fossils and other evidence we’ve found?   \n",
       "\n",
       "                                                                                                                                                                                                                                                                                                                                                                                                                                                                                                                                                                                                                                                                                                                                                                                                                                                                                                                                                                                                                                                                            full_text  \n",
       "2251                                                                                                                                                                                                                                                                                                                                                                                                                                                                                                                                                                                                                                                                                                                                                                   How do super storms like Hurricane Dorian affect marine life as the storm travels through the area? Do they affect deep sea creatures? Edit: Thank you, anonymous do-gooder for the gold! They say it is better to give than to receive, but this is my first gold so I gotta say this feels pretty darn good!  \n",
       "2612  Why are the French considered \"white\"? This question comes with baggage and is bases on some loose assumptions that may be true. When I ask why the French are considered white, I mean why are they considered white to the far right in countries like Germany, the United Kingdom, and the United States. It seems a common reason why for example the Irish or Polish were not considered white was because they were Catholic and thus co sidereal inferior. So why then are the French exempted and viewed widely as white despite being very catholic themselves? Perhaps this is based on a false premise that race and religion are connected in ways that they are not, but I can't see why Irish immigrants wouldn't be seen as white otherwise (excluding the Ulster Irish, who were considered white because they were protestant). Obviously I am asking this moreso in reference to Germanic White supremacist in anglophone and Germanic countries , because I am sure the French do regard themselves as white. Does it have something to do with the franks?   \n",
       "3353                                                                                                                                                                                                                                                                                                                                                                                                                                                                                                                                                                                                                                                                                                                                                                                                                                                                                                                                                                                  Why does this happen when it frosts? https://www.reddit.com/r/Damnthatsinteresting/s/WKlLoWrezW  \n",
       "4775                                                                                                                                                                                                                                                                                                                                                                                                                                                                                                                                                                                                                                                                                                                                                                                                                                     Was Napoleon doomed to fail no matter what he did?  It seems like the economic power of Great Britain was the greatest obstacle in Napoleon’s path to ruling Europe. Is there anything he could have done differently to achieve that goal?   \n",
       "3709                                                                                                                                                                                                                                                                                                                                                                                                                                                                                                                                                                                                                                                                                                                                                                                                                  The oxygen level rise to 30% in the carboniferous period and is now 21%. What happened to the extra oxygen? What happened to the oxygen in the atmosphere after the carboniferous period to make it go down to 21%, specifically where did the extra oxygen go?  \n",
       "3484                                                                                                                                                                                                                                                                                                                                                                                                                                                                                                                                                                                                                                                                                                                                                                                                                    What were the requirements to become an Army chaplain during the Vietnam war? Are they the same today? Did they only allow for the major religions? What if someone was a lesser known Native American religion could they petition for approval?\\nThank you!  \n",
       "128                                                                                                                                                                                                                                                                                                                         Are cold sores (or any other form of herpes) always triggered, or do they break out randomly? After doing some reading I have heard that herpes viruses tend to break out in a person after a variety of triggers, such as stress, sun exposure, illness, hormonal changes etc…, and people can avoid outbreaks by avoiding these causes.  These sources have also stated, however, that it is unclear whether or not these directly impact outbreaks. Furthermore, it is known that lots of people with herpes tend to never show any symptoms, while others may experience them highly frequently. Is there a definite correlation between these triggers and outbreaks, and can a person’s immune system or genetics play a role in their occurrences?  \n",
       "2621                                                                                                                                                                                                                                                                                                                                                                                                                                                                                                                                                                                                                                                                                                                                                                                                                                What motivated US politicians to go from patronage to meritocracy? It seems patronage would produce a lot of gravy for incumbents and help produce political machines. What motivated US politicians to switch to a meritocracy system?\\n\\nThanks  \n",
       "5299                                                                                                                                                                                                                   How do scientists who clone animals account for imprinted genes? So I've learned a good deal about imprinted genes and disorders associated with imprinting in my education. I've also heard of but never really studied the process of producing an animal in a lab with a single set of maternal DNA. It seems to me that for this to be done successfully whoever is producing this animal would need to find a way of reproducing methylation patterns that occur during spermatogenesis otherwise the resulting specimen would be unviable. I assume I am either grossly misinformed about how cloning animals work or am missing an important part about imprinting. Thanks for any help this question has been driving me crazy since I first heard about imprinting but don't feel compiled to invest the time it would take to figure it out myself.   \n",
       "4004                                                                                                                                                                                                                                                                                                                                                                                                                                                                                                                                                                                                                                                                                                                                                              What is the oldest species of animal that is still extant? I know animals evolve over time, so nothing is exactly the same as it’s ancient counterparts, but what animal that still currently exists has been around and mostly unchanged for the longest time according to fossils and other evidence we’ve found?  "
      ]
     },
     "execution_count": 18,
     "metadata": {},
     "output_type": "execute_result"
    }
   ],
   "source": [
    "df.sample(10)\n",
    "# df.iloc[86]"
   ]
  },
  {
   "cell_type": "code",
   "execution_count": null,
   "id": "340b885c-a2a1-4af4-aed1-bd49183e0928",
   "metadata": {
    "tags": []
   },
   "outputs": [],
   "source": []
  },
  {
   "cell_type": "code",
   "execution_count": 19,
   "id": "7588751a-85f8-4413-a797-74e8a009312c",
   "metadata": {},
   "outputs": [],
   "source": [
    "df['subreddit'] = df['subreddit'].map({'askscience':0, 'AskHistorians':1})"
   ]
  },
  {
   "cell_type": "code",
   "execution_count": null,
   "id": "254a9b68-0711-4f29-88e8-0d7c19197828",
   "metadata": {},
   "outputs": [],
   "source": []
  },
  {
   "cell_type": "markdown",
   "id": "ba4fa493-cce9-49ac-aa2d-76dc64a28ec1",
   "metadata": {},
   "source": [
    "# Baseline"
   ]
  },
  {
   "cell_type": "code",
   "execution_count": 20,
   "id": "6a9b0f6b-195b-4643-b4b3-26cd8ab99f23",
   "metadata": {
    "tags": []
   },
   "outputs": [],
   "source": [
    "import matplotlib.pyplot as plt\n",
    "from nltk.corpus import stopwords\n",
    "from nltk.stem import PorterStemmer, WordNetLemmatizer\n",
    "from sklearn.feature_extraction.text import CountVectorizer\n",
    "from sklearn.model_selection import train_test_split, GridSearchCV\n",
    "\n",
    "from sklearn.pipeline import Pipeline\n",
    "from sklearn.naive_bayes import MultinomialNB, BernoulliNB\n",
    "from sklearn.linear_model import LogisticRegression\n",
    "from sklearn.metrics import confusion_matrix, ConfusionMatrixDisplay\n"
   ]
  },
  {
   "cell_type": "code",
   "execution_count": 21,
   "id": "0db9fcee-28a6-48ad-be46-f42a225964eb",
   "metadata": {
    "tags": []
   },
   "outputs": [
    {
     "data": {
      "text/plain": [
       "subreddit\n",
       "1    0.578244\n",
       "0    0.421756\n",
       "Name: proportion, dtype: float64"
      ]
     },
     "execution_count": 21,
     "metadata": {},
     "output_type": "execute_result"
    }
   ],
   "source": [
    "df['subreddit'].value_counts(normalize=True) "
   ]
  },
  {
   "cell_type": "code",
   "execution_count": null,
   "id": "c864f4fd-6611-407c-9e19-45d7ad049ce1",
   "metadata": {
    "tags": []
   },
   "outputs": [],
   "source": []
  },
  {
   "cell_type": "code",
   "execution_count": null,
   "id": "ca297695-db98-4b8b-8f06-f5a3540ec7e2",
   "metadata": {
    "tags": []
   },
   "outputs": [],
   "source": []
  },
  {
   "cell_type": "code",
   "execution_count": 22,
   "id": "cb438cec-f4c5-4de6-9479-3fb6c6173ab8",
   "metadata": {
    "tags": []
   },
   "outputs": [],
   "source": [
    "ps = PorterStemmer()\n",
    "\n",
    "df['stemmed'] = [ps.stem(x) for x in df['full_text']]"
   ]
  },
  {
   "cell_type": "code",
   "execution_count": 23,
   "id": "621af4dd-98ef-4aa7-a9b8-946a62312e9d",
   "metadata": {
    "tags": []
   },
   "outputs": [],
   "source": [
    "# Get data\n",
    "\n",
    "\n",
    "\n",
    "X = df['stemmed']\n",
    "y = df['subreddit']\n",
    "\n",
    "X_train, X_test, y_train, y_test = train_test_split(X, y)\n"
   ]
  },
  {
   "cell_type": "code",
   "execution_count": 24,
   "id": "35541ece-6302-46e4-bdc0-28f5c30f727e",
   "metadata": {},
   "outputs": [],
   "source": [
    "# Preprocessing"
   ]
  },
  {
   "cell_type": "code",
   "execution_count": null,
   "id": "3431f5c6-6cb1-4f2a-8e44-8428cd2e10fe",
   "metadata": {},
   "outputs": [],
   "source": []
  },
  {
   "cell_type": "code",
   "execution_count": 25,
   "id": "9e9579b1-11cc-4f9d-a1ad-84849bfe4216",
   "metadata": {
    "tags": []
   },
   "outputs": [],
   "source": [
    "sw = stopwords.words('english') + ['\\n', 'history', 'science', 'com', 'www', 'askscience', 'askhistorians', ]\n",
    "\n",
    "\n",
    "cvec = CountVectorizer(stop_words=sw, ngram_range=(1,2))\n",
    "cvec.fit(X)\n",
    "\n",
    "X_train_cv = cvec.transform(X_train)\n",
    "X_test_cv = cvec.transform(X_test)\n",
    "\n",
    "X_train_df = pd.DataFrame(X_train_cv.todense(), columns=cvec.get_feature_names_out())\n"
   ]
  },
  {
   "cell_type": "code",
   "execution_count": 26,
   "id": "44628610-a853-4da7-8f2e-7b35a5a6f08e",
   "metadata": {
    "tags": []
   },
   "outputs": [
    {
     "data": {
      "text/html": [
       "<div>\n",
       "<style scoped>\n",
       "    .dataframe tbody tr th:only-of-type {\n",
       "        vertical-align: middle;\n",
       "    }\n",
       "\n",
       "    .dataframe tbody tr th {\n",
       "        vertical-align: top;\n",
       "    }\n",
       "\n",
       "    .dataframe thead th {\n",
       "        text-align: right;\n",
       "    }\n",
       "</style>\n",
       "<table border=\"1\" class=\"dataframe\">\n",
       "  <thead>\n",
       "    <tr style=\"text-align: right;\">\n",
       "      <th></th>\n",
       "      <th>00</th>\n",
       "      <th>00 00</th>\n",
       "      <th>00 18</th>\n",
       "      <th>00 19</th>\n",
       "      <th>00 30</th>\n",
       "      <th>00 cest</th>\n",
       "      <th>00 edt</th>\n",
       "      <th>00 et</th>\n",
       "      <th>00 html</th>\n",
       "      <th>00 minute</th>\n",
       "      <th>...</th>\n",
       "      <th>박순정 xiaojie</th>\n",
       "      <th>유용애</th>\n",
       "      <th>유용애 two</th>\n",
       "      <th>𝑔𝑟</th>\n",
       "      <th>𝑔𝑟 𝜌𝑠</th>\n",
       "      <th>𝜌𝑓</th>\n",
       "      <th>𝜌𝑓 18𝜂</th>\n",
       "      <th>𝜌𝑓 9𝜂</th>\n",
       "      <th>𝜌𝑠</th>\n",
       "      <th>𝜌𝑠 𝜌𝑓</th>\n",
       "    </tr>\n",
       "  </thead>\n",
       "  <tbody>\n",
       "    <tr>\n",
       "      <th>0</th>\n",
       "      <td>0</td>\n",
       "      <td>0</td>\n",
       "      <td>0</td>\n",
       "      <td>0</td>\n",
       "      <td>0</td>\n",
       "      <td>0</td>\n",
       "      <td>0</td>\n",
       "      <td>0</td>\n",
       "      <td>0</td>\n",
       "      <td>0</td>\n",
       "      <td>...</td>\n",
       "      <td>0</td>\n",
       "      <td>0</td>\n",
       "      <td>0</td>\n",
       "      <td>0</td>\n",
       "      <td>0</td>\n",
       "      <td>0</td>\n",
       "      <td>0</td>\n",
       "      <td>0</td>\n",
       "      <td>0</td>\n",
       "      <td>0</td>\n",
       "    </tr>\n",
       "    <tr>\n",
       "      <th>1</th>\n",
       "      <td>0</td>\n",
       "      <td>0</td>\n",
       "      <td>0</td>\n",
       "      <td>0</td>\n",
       "      <td>0</td>\n",
       "      <td>0</td>\n",
       "      <td>0</td>\n",
       "      <td>0</td>\n",
       "      <td>0</td>\n",
       "      <td>0</td>\n",
       "      <td>...</td>\n",
       "      <td>0</td>\n",
       "      <td>0</td>\n",
       "      <td>0</td>\n",
       "      <td>0</td>\n",
       "      <td>0</td>\n",
       "      <td>0</td>\n",
       "      <td>0</td>\n",
       "      <td>0</td>\n",
       "      <td>0</td>\n",
       "      <td>0</td>\n",
       "    </tr>\n",
       "    <tr>\n",
       "      <th>2</th>\n",
       "      <td>0</td>\n",
       "      <td>0</td>\n",
       "      <td>0</td>\n",
       "      <td>0</td>\n",
       "      <td>0</td>\n",
       "      <td>0</td>\n",
       "      <td>0</td>\n",
       "      <td>0</td>\n",
       "      <td>0</td>\n",
       "      <td>0</td>\n",
       "      <td>...</td>\n",
       "      <td>0</td>\n",
       "      <td>0</td>\n",
       "      <td>0</td>\n",
       "      <td>0</td>\n",
       "      <td>0</td>\n",
       "      <td>0</td>\n",
       "      <td>0</td>\n",
       "      <td>0</td>\n",
       "      <td>0</td>\n",
       "      <td>0</td>\n",
       "    </tr>\n",
       "    <tr>\n",
       "      <th>3</th>\n",
       "      <td>0</td>\n",
       "      <td>0</td>\n",
       "      <td>0</td>\n",
       "      <td>0</td>\n",
       "      <td>0</td>\n",
       "      <td>0</td>\n",
       "      <td>0</td>\n",
       "      <td>0</td>\n",
       "      <td>0</td>\n",
       "      <td>0</td>\n",
       "      <td>...</td>\n",
       "      <td>0</td>\n",
       "      <td>0</td>\n",
       "      <td>0</td>\n",
       "      <td>0</td>\n",
       "      <td>0</td>\n",
       "      <td>0</td>\n",
       "      <td>0</td>\n",
       "      <td>0</td>\n",
       "      <td>0</td>\n",
       "      <td>0</td>\n",
       "    </tr>\n",
       "    <tr>\n",
       "      <th>4</th>\n",
       "      <td>0</td>\n",
       "      <td>0</td>\n",
       "      <td>0</td>\n",
       "      <td>0</td>\n",
       "      <td>0</td>\n",
       "      <td>0</td>\n",
       "      <td>0</td>\n",
       "      <td>0</td>\n",
       "      <td>0</td>\n",
       "      <td>0</td>\n",
       "      <td>...</td>\n",
       "      <td>0</td>\n",
       "      <td>0</td>\n",
       "      <td>0</td>\n",
       "      <td>0</td>\n",
       "      <td>0</td>\n",
       "      <td>0</td>\n",
       "      <td>0</td>\n",
       "      <td>0</td>\n",
       "      <td>0</td>\n",
       "      <td>0</td>\n",
       "    </tr>\n",
       "  </tbody>\n",
       "</table>\n",
       "<p>5 rows × 186206 columns</p>\n",
       "</div>"
      ],
      "text/plain": [
       "   00  00 00  00 18  00 19  00 30  00 cest  00 edt  00 et  00 html  00 minute  \\\n",
       "0   0      0      0      0      0        0       0      0        0          0   \n",
       "1   0      0      0      0      0        0       0      0        0          0   \n",
       "2   0      0      0      0      0        0       0      0        0          0   \n",
       "3   0      0      0      0      0        0       0      0        0          0   \n",
       "4   0      0      0      0      0        0       0      0        0          0   \n",
       "\n",
       "   ...  박순정 xiaojie  유용애  유용애 two  𝑔𝑟  𝑔𝑟 𝜌𝑠  𝜌𝑓  𝜌𝑓 18𝜂  𝜌𝑓 9𝜂  𝜌𝑠  𝜌𝑠 𝜌𝑓  \n",
       "0  ...            0    0        0   0      0   0       0      0   0      0  \n",
       "1  ...            0    0        0   0      0   0       0      0   0      0  \n",
       "2  ...            0    0        0   0      0   0       0      0   0      0  \n",
       "3  ...            0    0        0   0      0   0       0      0   0      0  \n",
       "4  ...            0    0        0   0      0   0       0      0   0      0  \n",
       "\n",
       "[5 rows x 186206 columns]"
      ]
     },
     "execution_count": 26,
     "metadata": {},
     "output_type": "execute_result"
    }
   ],
   "source": [
    "X_train_df.head()"
   ]
  },
  {
   "cell_type": "code",
   "execution_count": 77,
   "id": "847eb650-3c31-4324-882d-af752c372056",
   "metadata": {
    "tags": []
   },
   "outputs": [
    {
     "ename": "AttributeError",
     "evalue": "'DataFrame' object has no attribute 'row'",
     "output_type": "error",
     "traceback": [
      "\u001b[1;31m---------------------------------------------------------------------------\u001b[0m",
      "\u001b[1;31mAttributeError\u001b[0m                            Traceback (most recent call last)",
      "\u001b[1;32m~\\AppData\\Local\\Temp\\ipykernel_96200\\3618025248.py\u001b[0m in \u001b[0;36m?\u001b[1;34m()\u001b[0m\n\u001b[1;32m----> 1\u001b[1;33m \u001b[0mdf\u001b[0m\u001b[1;33m.\u001b[0m\u001b[0mrow\u001b[0m\u001b[1;33m\u001b[0m\u001b[1;33m\u001b[0m\u001b[0m\n\u001b[0m",
      "\u001b[1;32m~\\anaconda3\\Lib\\site-packages\\pandas\\core\\generic.py\u001b[0m in \u001b[0;36m?\u001b[1;34m(self, name)\u001b[0m\n\u001b[0;32m   5985\u001b[0m             \u001b[1;32mand\u001b[0m \u001b[0mname\u001b[0m \u001b[1;32mnot\u001b[0m \u001b[1;32min\u001b[0m \u001b[0mself\u001b[0m\u001b[1;33m.\u001b[0m\u001b[0m_accessors\u001b[0m\u001b[1;33m\u001b[0m\u001b[1;33m\u001b[0m\u001b[0m\n\u001b[0;32m   5986\u001b[0m             \u001b[1;32mand\u001b[0m \u001b[0mself\u001b[0m\u001b[1;33m.\u001b[0m\u001b[0m_info_axis\u001b[0m\u001b[1;33m.\u001b[0m\u001b[0m_can_hold_identifiers_and_holds_name\u001b[0m\u001b[1;33m(\u001b[0m\u001b[0mname\u001b[0m\u001b[1;33m)\u001b[0m\u001b[1;33m\u001b[0m\u001b[1;33m\u001b[0m\u001b[0m\n\u001b[0;32m   5987\u001b[0m         ):\n\u001b[0;32m   5988\u001b[0m             \u001b[1;32mreturn\u001b[0m \u001b[0mself\u001b[0m\u001b[1;33m[\u001b[0m\u001b[0mname\u001b[0m\u001b[1;33m]\u001b[0m\u001b[1;33m\u001b[0m\u001b[1;33m\u001b[0m\u001b[0m\n\u001b[1;32m-> 5989\u001b[1;33m         \u001b[1;32mreturn\u001b[0m \u001b[0mobject\u001b[0m\u001b[1;33m.\u001b[0m\u001b[0m__getattribute__\u001b[0m\u001b[1;33m(\u001b[0m\u001b[0mself\u001b[0m\u001b[1;33m,\u001b[0m \u001b[0mname\u001b[0m\u001b[1;33m)\u001b[0m\u001b[1;33m\u001b[0m\u001b[1;33m\u001b[0m\u001b[0m\n\u001b[0m",
      "\u001b[1;31mAttributeError\u001b[0m: 'DataFrame' object has no attribute 'row'"
     ]
    }
   ],
   "source": []
  },
  {
   "cell_type": "code",
   "execution_count": 27,
   "id": "9fa1660a-285b-44da-81fd-9d63eb40aa10",
   "metadata": {
    "tags": []
   },
   "outputs": [
    {
     "data": {
      "text/plain": [
       "<bound method CountVectorizer.get_feature_names_out of CountVectorizer(ngram_range=(1, 2),\n",
       "                stop_words=['i', 'me', 'my', 'myself', 'we', 'our', 'ours',\n",
       "                            'ourselves', 'you', \"you're\", \"you've\", \"you'll\",\n",
       "                            \"you'd\", 'your', 'yours', 'yourself', 'yourselves',\n",
       "                            'he', 'him', 'his', 'himself', 'she', \"she's\",\n",
       "                            'her', 'hers', 'herself', 'it', \"it's\", 'its',\n",
       "                            'itself', ...])>"
      ]
     },
     "execution_count": 27,
     "metadata": {},
     "output_type": "execute_result"
    }
   ],
   "source": [
    "cvec.get_feature_names_out"
   ]
  },
  {
   "cell_type": "code",
   "execution_count": 28,
   "id": "c53f9358-7a36-4549-8cee-a12ea7e9a3e7",
   "metadata": {
    "tags": []
   },
   "outputs": [],
   "source": [
    "topwords = X_train_df.sum().sort_values(ascending=False).head(15)"
   ]
  },
  {
   "cell_type": "code",
   "execution_count": 29,
   "id": "d0a140c8-0bce-4861-a5b7-f1f28ebbe2a2",
   "metadata": {
    "tags": []
   },
   "outputs": [
    {
     "data": {
      "text/plain": [
       "<BarContainer object of 15 artists>"
      ]
     },
     "execution_count": 29,
     "metadata": {},
     "output_type": "execute_result"
    },
    {
     "data": {
      "image/png": "[encoded data removed]",
      "text/plain": [
       "<Figure size 640x480 with 1 Axes>"
      ]
     },
     "metadata": {},
     "output_type": "display_data"
    }
   ],
   "source": [
    "plt.barh(topwords.index, topwords, color='navy')"
   ]
  },
  {
   "cell_type": "code",
   "execution_count": 30,
   "id": "d69ba7d9-e8f1-46eb-a088-fcaeb4c743fc",
   "metadata": {
    "tags": []
   },
   "outputs": [],
   "source": [
    "ps = PorterStemmer()\n",
    "\n",
    "df['stemmed'] = [ps.stem(x) for x in df['full_text']]"
   ]
  },
  {
   "cell_type": "code",
   "execution_count": 31,
   "id": "5bfb1b65-9026-4b95-aa36-4d01600a2613",
   "metadata": {
    "tags": []
   },
   "outputs": [],
   "source": [
    "wn = WordNetLemmatizer()\n",
    "df['lemmatize'] = [wn.lemmatize(x) for x in df['full_text']]"
   ]
  },
  {
   "cell_type": "code",
   "execution_count": 32,
   "id": "f841c0c1-1c5b-45ef-abaa-8e878bf4678f",
   "metadata": {
    "tags": []
   },
   "outputs": [
    {
     "data": {
      "text/html": [
       "<div>\n",
       "<style scoped>\n",
       "    .dataframe tbody tr th:only-of-type {\n",
       "        vertical-align: middle;\n",
       "    }\n",
       "\n",
       "    .dataframe tbody tr th {\n",
       "        vertical-align: top;\n",
       "    }\n",
       "\n",
       "    .dataframe thead th {\n",
       "        text-align: right;\n",
       "    }\n",
       "</style>\n",
       "<table border=\"1\" class=\"dataframe\">\n",
       "  <thead>\n",
       "    <tr style=\"text-align: right;\">\n",
       "      <th></th>\n",
       "      <th>Unnamed: 0.1</th>\n",
       "      <th>created_utc</th>\n",
       "      <th>title</th>\n",
       "      <th>self_text</th>\n",
       "      <th>subreddit</th>\n",
       "      <th>text</th>\n",
       "      <th>full_text</th>\n",
       "      <th>stemmed</th>\n",
       "      <th>lemmatize</th>\n",
       "    </tr>\n",
       "  </thead>\n",
       "  <tbody>\n",
       "    <tr>\n",
       "      <th>0</th>\n",
       "      <td>565</td>\n",
       "      <td>1970-01-01 00:00:01.699043638</td>\n",
       "      <td>Does the earth get more homogeneous over time?</td>\n",
       "      <td>My wife and I are rock hounds and during a recent purchase of a large (very expensive) statement pierce I started wondering if people (or creatures of some sort) a billion years from now will have the same variety of mineral and crystal deposits to reap from? Or  will the constant motion of plates tectonics  with subduction and divergent/convergent boundaries keep mixing up minerals and elements until all bedrock stone is homogeneous and all the same effectively making mineral deposits that aren’t formed using water extinct? \\n\\nNote: I may or may not have been a little high when this thought crossed my mind</td>\n",
       "      <td>0</td>\n",
       "      <td>My wife and I are rock hounds and during a recent purchase of a large (very expensive) statement pierce I started wondering if people (or creatures of some sort) a billion years from now will have the same variety of mineral and crystal deposits to reap from? Or  will the constant motion of plates tectonics  with subduction and divergent/convergent boundaries keep mixing up minerals and elements until all bedrock stone is homogeneous and all the same effectively making mineral deposits that aren’t formed using water extinct? \\n\\nNote: I may or may not have been a little high when this thought crossed my mind</td>\n",
       "      <td>Does the earth get more homogeneous over time? My wife and I are rock hounds and during a recent purchase of a large (very expensive) statement pierce I started wondering if people (or creatures of some sort) a billion years from now will have the same variety of mineral and crystal deposits to reap from? Or  will the constant motion of plates tectonics  with subduction and divergent/convergent boundaries keep mixing up minerals and elements until all bedrock stone is homogeneous and all the same effectively making mineral deposits that aren’t formed using water extinct? \\n\\nNote: I may or may not have been a little high when this thought crossed my mind</td>\n",
       "      <td>does the earth get more homogeneous over time? my wife and i are rock hounds and during a recent purchase of a large (very expensive) statement pierce i started wondering if people (or creatures of some sort) a billion years from now will have the same variety of mineral and crystal deposits to reap from? or  will the constant motion of plates tectonics  with subduction and divergent/convergent boundaries keep mixing up minerals and elements until all bedrock stone is homogeneous and all the same effectively making mineral deposits that aren’t formed using water extinct? \\n\\nnote: i may or may not have been a little high when this thought crossed my mind</td>\n",
       "      <td>Does the earth get more homogeneous over time? My wife and I are rock hounds and during a recent purchase of a large (very expensive) statement pierce I started wondering if people (or creatures of some sort) a billion years from now will have the same variety of mineral and crystal deposits to reap from? Or  will the constant motion of plates tectonics  with subduction and divergent/convergent boundaries keep mixing up minerals and elements until all bedrock stone is homogeneous and all the same effectively making mineral deposits that aren’t formed using water extinct? \\n\\nNote: I may or may not have been a little high when this thought crossed my mind</td>\n",
       "    </tr>\n",
       "    <tr>\n",
       "      <th>1</th>\n",
       "      <td>4206</td>\n",
       "      <td>1970-01-01 00:00:01.603808968</td>\n",
       "      <td>Even though much is lost, the overwhelming majority of public knowledge on Western Phoenician civilization is centred on Carthage and it’s empire. But what do we know about the inner workings of other large Punic polities like Utica in North Africa and Agadir/Gadir in Spain?</td>\n",
       "      <td>I’ve studied Punic civilization quite a lot, and for obvious reasons Carthage predominates the scholarship massively.  But while I know that Gadir is older and had a very important temple to Melqart, and that Utica was the second largest Phoenician/Punic settlement in North Africa (I believe), I don’t really know much else about them or other non-Carthaginian Punic settlements.  What do we know of their governments, people, traditions, economies, and the like?\\n\\nHoly carp three awards for asking a question?  Thanks community!</td>\n",
       "      <td>1</td>\n",
       "      <td>I’ve studied Punic civilization quite a lot, and for obvious reasons Carthage predominates the scholarship massively.  But while I know that Gadir is older and had a very important temple to Melqart, and that Utica was the second largest Phoenician/Punic settlement in North Africa (I believe), I don’t really know much else about them or other non-Carthaginian Punic settlements.  What do we know of their governments, people, traditions, economies, and the like?\\n\\nHoly carp three awards for asking a question?  Thanks community!</td>\n",
       "      <td>Even though much is lost, the overwhelming majority of public knowledge on Western Phoenician civilization is centred on Carthage and it’s empire. But what do we know about the inner workings of other large Punic polities like Utica in North Africa and Agadir/Gadir in Spain? I’ve studied Punic civilization quite a lot, and for obvious reasons Carthage predominates the scholarship massively.  But while I know that Gadir is older and had a very important temple to Melqart, and that Utica was the second largest Phoenician/Punic settlement in North Africa (I believe), I don’t really know much else about them or other non-Carthaginian Punic settlements.  What do we know of their governments, people, traditions, economies, and the like?\\n\\nHoly carp three awards for asking a question?  Thanks community!</td>\n",
       "      <td>even though much is lost, the overwhelming majority of public knowledge on western phoenician civilization is centred on carthage and it’s empire. but what do we know about the inner workings of other large punic polities like utica in north africa and agadir/gadir in spain? i’ve studied punic civilization quite a lot, and for obvious reasons carthage predominates the scholarship massively.  but while i know that gadir is older and had a very important temple to melqart, and that utica was the second largest phoenician/punic settlement in north africa (i believe), i don’t really know much else about them or other non-carthaginian punic settlements.  what do we know of their governments, people, traditions, economies, and the like?\\n\\nholy carp three awards for asking a question?  thanks community!</td>\n",
       "      <td>Even though much is lost, the overwhelming majority of public knowledge on Western Phoenician civilization is centred on Carthage and it’s empire. But what do we know about the inner workings of other large Punic polities like Utica in North Africa and Agadir/Gadir in Spain? I’ve studied Punic civilization quite a lot, and for obvious reasons Carthage predominates the scholarship massively.  But while I know that Gadir is older and had a very important temple to Melqart, and that Utica was the second largest Phoenician/Punic settlement in North Africa (I believe), I don’t really know much else about them or other non-Carthaginian Punic settlements.  What do we know of their governments, people, traditions, economies, and the like?\\n\\nHoly carp three awards for asking a question?  Thanks community!</td>\n",
       "    </tr>\n",
       "    <tr>\n",
       "      <th>2</th>\n",
       "      <td>4452</td>\n",
       "      <td>1970-01-01 00:00:01.709433247</td>\n",
       "      <td>What did European travellers and missionaries to Asia think about Chinese movable type printing press?</td>\n",
       "      <td>Were they surprised to find that Gutenberg had been preceded by the Chinese (even though Gutenberg's press was different and more efficient than the former)? Did they ever hypothesize about Gutenberg being somehow influenced by this Asian technology?\\n\\nThanks in advance.</td>\n",
       "      <td>1</td>\n",
       "      <td>Were they surprised to find that Gutenberg had been preceded by the Chinese (even though Gutenberg's press was different and more efficient than the former)? Did they ever hypothesize about Gutenberg being somehow influenced by this Asian technology?\\n\\nThanks in advance.</td>\n",
       "      <td>What did European travellers and missionaries to Asia think about Chinese movable type printing press? Were they surprised to find that Gutenberg had been preceded by the Chinese (even though Gutenberg's press was different and more efficient than the former)? Did they ever hypothesize about Gutenberg being somehow influenced by this Asian technology?\\n\\nThanks in advance.</td>\n",
       "      <td>what did european travellers and missionaries to asia think about chinese movable type printing press? were they surprised to find that gutenberg had been preceded by the chinese (even though gutenberg's press was different and more efficient than the former)? did they ever hypothesize about gutenberg being somehow influenced by this asian technology?\\n\\nthanks in advance.</td>\n",
       "      <td>What did European travellers and missionaries to Asia think about Chinese movable type printing press? Were they surprised to find that Gutenberg had been preceded by the Chinese (even though Gutenberg's press was different and more efficient than the former)? Did they ever hypothesize about Gutenberg being somehow influenced by this Asian technology?\\n\\nThanks in advance.</td>\n",
       "    </tr>\n",
       "  </tbody>\n",
       "</table>\n",
       "</div>"
      ],
      "text/plain": [
       "   Unnamed: 0.1                   created_utc  \\\n",
       "0           565 1970-01-01 00:00:01.699043638   \n",
       "1          4206 1970-01-01 00:00:01.603808968   \n",
       "2          4452 1970-01-01 00:00:01.709433247   \n",
       "\n",
       "                                                                                                                                                                                                                                                                                 title  \\\n",
       "0                                                                                                                                                                                                                                       Does the earth get more homogeneous over time?   \n",
       "1  Even though much is lost, the overwhelming majority of public knowledge on Western Phoenician civilization is centred on Carthage and it’s empire. But what do we know about the inner workings of other large Punic polities like Utica in North Africa and Agadir/Gadir in Spain?   \n",
       "2                                                                                                                                                                               What did European travellers and missionaries to Asia think about Chinese movable type printing press?   \n",
       "\n",
       "                                                                                                                                                                                                                                                                                                                                                                                                                                                                                                                                                                                                                                 self_text  \\\n",
       "0  My wife and I are rock hounds and during a recent purchase of a large (very expensive) statement pierce I started wondering if people (or creatures of some sort) a billion years from now will have the same variety of mineral and crystal deposits to reap from? Or  will the constant motion of plates tectonics  with subduction and divergent/convergent boundaries keep mixing up minerals and elements until all bedrock stone is homogeneous and all the same effectively making mineral deposits that aren’t formed using water extinct? \\n\\nNote: I may or may not have been a little high when this thought crossed my mind   \n",
       "1                                                                                     I’ve studied Punic civilization quite a lot, and for obvious reasons Carthage predominates the scholarship massively.  But while I know that Gadir is older and had a very important temple to Melqart, and that Utica was the second largest Phoenician/Punic settlement in North Africa (I believe), I don’t really know much else about them or other non-Carthaginian Punic settlements.  What do we know of their governments, people, traditions, economies, and the like?\\n\\nHoly carp three awards for asking a question?  Thanks community!   \n",
       "2                                                                                                                                                                                                                                                                                                                                                         Were they surprised to find that Gutenberg had been preceded by the Chinese (even though Gutenberg's press was different and more efficient than the former)? Did they ever hypothesize about Gutenberg being somehow influenced by this Asian technology?\\n\\nThanks in advance.   \n",
       "\n",
       "   subreddit  \\\n",
       "0          0   \n",
       "1          1   \n",
       "2          1   \n",
       "\n",
       "                                                                                                                                                                                                                                                                                                                                                                                                                                                                                                                                                                                                                                      text  \\\n",
       "0  My wife and I are rock hounds and during a recent purchase of a large (very expensive) statement pierce I started wondering if people (or creatures of some sort) a billion years from now will have the same variety of mineral and crystal deposits to reap from? Or  will the constant motion of plates tectonics  with subduction and divergent/convergent boundaries keep mixing up minerals and elements until all bedrock stone is homogeneous and all the same effectively making mineral deposits that aren’t formed using water extinct? \\n\\nNote: I may or may not have been a little high when this thought crossed my mind   \n",
       "1                                                                                     I’ve studied Punic civilization quite a lot, and for obvious reasons Carthage predominates the scholarship massively.  But while I know that Gadir is older and had a very important temple to Melqart, and that Utica was the second largest Phoenician/Punic settlement in North Africa (I believe), I don’t really know much else about them or other non-Carthaginian Punic settlements.  What do we know of their governments, people, traditions, economies, and the like?\\n\\nHoly carp three awards for asking a question?  Thanks community!   \n",
       "2                                                                                                                                                                                                                                                                                                                                                         Were they surprised to find that Gutenberg had been preceded by the Chinese (even though Gutenberg's press was different and more efficient than the former)? Did they ever hypothesize about Gutenberg being somehow influenced by this Asian technology?\\n\\nThanks in advance.   \n",
       "\n",
       "                                                                                                                                                                                                                                                                                                                                                                                                                                                                                                                                                                                                                                                                                                                                                                                                                                  full_text  \\\n",
       "0                                                                                                                                                    Does the earth get more homogeneous over time? My wife and I are rock hounds and during a recent purchase of a large (very expensive) statement pierce I started wondering if people (or creatures of some sort) a billion years from now will have the same variety of mineral and crystal deposits to reap from? Or  will the constant motion of plates tectonics  with subduction and divergent/convergent boundaries keep mixing up minerals and elements until all bedrock stone is homogeneous and all the same effectively making mineral deposits that aren’t formed using water extinct? \\n\\nNote: I may or may not have been a little high when this thought crossed my mind   \n",
       "1  Even though much is lost, the overwhelming majority of public knowledge on Western Phoenician civilization is centred on Carthage and it’s empire. But what do we know about the inner workings of other large Punic polities like Utica in North Africa and Agadir/Gadir in Spain? I’ve studied Punic civilization quite a lot, and for obvious reasons Carthage predominates the scholarship massively.  But while I know that Gadir is older and had a very important temple to Melqart, and that Utica was the second largest Phoenician/Punic settlement in North Africa (I believe), I don’t really know much else about them or other non-Carthaginian Punic settlements.  What do we know of their governments, people, traditions, economies, and the like?\\n\\nHoly carp three awards for asking a question?  Thanks community!   \n",
       "2                                                                                                                                                                                                                                                                                                                                                                                                                                                   What did European travellers and missionaries to Asia think about Chinese movable type printing press? Were they surprised to find that Gutenberg had been preceded by the Chinese (even though Gutenberg's press was different and more efficient than the former)? Did they ever hypothesize about Gutenberg being somehow influenced by this Asian technology?\\n\\nThanks in advance.   \n",
       "\n",
       "                                                                                                                                                                                                                                                                                                                                                                                                                                                                                                                                                                                                                                                                                                                                                                                                                                    stemmed  \\\n",
       "0                                                                                                                                                    does the earth get more homogeneous over time? my wife and i are rock hounds and during a recent purchase of a large (very expensive) statement pierce i started wondering if people (or creatures of some sort) a billion years from now will have the same variety of mineral and crystal deposits to reap from? or  will the constant motion of plates tectonics  with subduction and divergent/convergent boundaries keep mixing up minerals and elements until all bedrock stone is homogeneous and all the same effectively making mineral deposits that aren’t formed using water extinct? \\n\\nnote: i may or may not have been a little high when this thought crossed my mind   \n",
       "1  even though much is lost, the overwhelming majority of public knowledge on western phoenician civilization is centred on carthage and it’s empire. but what do we know about the inner workings of other large punic polities like utica in north africa and agadir/gadir in spain? i’ve studied punic civilization quite a lot, and for obvious reasons carthage predominates the scholarship massively.  but while i know that gadir is older and had a very important temple to melqart, and that utica was the second largest phoenician/punic settlement in north africa (i believe), i don’t really know much else about them or other non-carthaginian punic settlements.  what do we know of their governments, people, traditions, economies, and the like?\\n\\nholy carp three awards for asking a question?  thanks community!   \n",
       "2                                                                                                                                                                                                                                                                                                                                                                                                                                                   what did european travellers and missionaries to asia think about chinese movable type printing press? were they surprised to find that gutenberg had been preceded by the chinese (even though gutenberg's press was different and more efficient than the former)? did they ever hypothesize about gutenberg being somehow influenced by this asian technology?\\n\\nthanks in advance.   \n",
       "\n",
       "                                                                                                                                                                                                                                                                                                                                                                                                                                                                                                                                                                                                                                                                                                                                                                                                                                  lemmatize  \n",
       "0                                                                                                                                                    Does the earth get more homogeneous over time? My wife and I are rock hounds and during a recent purchase of a large (very expensive) statement pierce I started wondering if people (or creatures of some sort) a billion years from now will have the same variety of mineral and crystal deposits to reap from? Or  will the constant motion of plates tectonics  with subduction and divergent/convergent boundaries keep mixing up minerals and elements until all bedrock stone is homogeneous and all the same effectively making mineral deposits that aren’t formed using water extinct? \\n\\nNote: I may or may not have been a little high when this thought crossed my mind  \n",
       "1  Even though much is lost, the overwhelming majority of public knowledge on Western Phoenician civilization is centred on Carthage and it’s empire. But what do we know about the inner workings of other large Punic polities like Utica in North Africa and Agadir/Gadir in Spain? I’ve studied Punic civilization quite a lot, and for obvious reasons Carthage predominates the scholarship massively.  But while I know that Gadir is older and had a very important temple to Melqart, and that Utica was the second largest Phoenician/Punic settlement in North Africa (I believe), I don’t really know much else about them or other non-Carthaginian Punic settlements.  What do we know of their governments, people, traditions, economies, and the like?\\n\\nHoly carp three awards for asking a question?  Thanks community!  \n",
       "2                                                                                                                                                                                                                                                                                                                                                                                                                                                   What did European travellers and missionaries to Asia think about Chinese movable type printing press? Were they surprised to find that Gutenberg had been preceded by the Chinese (even though Gutenberg's press was different and more efficient than the former)? Did they ever hypothesize about Gutenberg being somehow influenced by this Asian technology?\\n\\nThanks in advance.  "
      ]
     },
     "execution_count": 32,
     "metadata": {},
     "output_type": "execute_result"
    }
   ],
   "source": [
    "df.head(3)"
   ]
  },
  {
   "cell_type": "code",
   "execution_count": 69,
   "id": "38eb23b7-74df-4484-bb60-9b27e2882699",
   "metadata": {
    "tags": []
   },
   "outputs": [],
   "source": [
    "\n",
    "# X = df['full_text']\n",
    "# X = df['stemmed']\n",
    "X = df['lemmatize']\n",
    "y = df['subreddit']\n",
    "\n",
    "X_train, X_test, y_train, y_test = train_test_split(X, y)"
   ]
  },
  {
   "cell_type": "code",
   "execution_count": 70,
   "id": "7b995cab-3e3b-43bc-a581-e3297ae1ef91",
   "metadata": {
    "tags": []
   },
   "outputs": [],
   "source": [
    "sw = stopwords.words('english') + ['\\n', 'history', 'science', 'com', 'www', 'askscience', 'askhistorians', ]\n",
    "cvec = CountVectorizer(stop_words=sw)\n",
    "\n",
    "pipe = Pipeline([\n",
    "    ('cvec', cvec),\n",
    "    ('nb', MultinomialNB()),\n",
    "    # ('bnb', BernoulliNB())\n",
    "    \n",
    "])\n",
    "\n",
    "params = {\n",
    "    'cvec__binary': [False, True],\n",
    "    'cvec__min_df': [1,2,3],\n",
    "    'cvec__max_df': np.linspace(.5,1, 5),\n",
    "    'cvec__ngram_range': [(1,1), (1,2)],\n",
    "}\n",
    "\n",
    "gs = GridSearchCV(pipe, params, cv=5, n_jobs=8)"
   ]
  },
  {
   "cell_type": "code",
   "execution_count": 61,
   "id": "548fe569-04bb-4e4d-96b2-2fe10c15880f",
   "metadata": {
    "tags": []
   },
   "outputs": [
    {
     "data": {
      "text/plain": [
       "array([0.5  , 0.625, 0.75 , 0.875, 1.   ])"
      ]
     },
     "execution_count": 61,
     "metadata": {},
     "output_type": "execute_result"
    }
   ],
   "source": [
    "# pipe.get_params()\n",
    "import numpy as np\n",
    "np.linspace(.5, 1, 5)"
   ]
  },
  {
   "cell_type": "code",
   "execution_count": 62,
   "id": "730230f1-059b-41ff-b9af-a1c35a58f204",
   "metadata": {
    "tags": []
   },
   "outputs": [
    {
     "data": {
      "text/plain": [
       "{'memory': None,\n",
       " 'steps': [('cvec',\n",
       "   CountVectorizer(stop_words=['i', 'me', 'my', 'myself', 'we', 'our', 'ours',\n",
       "                               'ourselves', 'you', \"you're\", \"you've\", \"you'll\",\n",
       "                               \"you'd\", 'your', 'yours', 'yourself', 'yourselves',\n",
       "                               'he', 'him', 'his', 'himself', 'she', \"she's\",\n",
       "                               'her', 'hers', 'herself', 'it', \"it's\", 'its',\n",
       "                               'itself', ...])),\n",
       "  ('nb', MultinomialNB())],\n",
       " 'verbose': False,\n",
       " 'cvec': CountVectorizer(stop_words=['i', 'me', 'my', 'myself', 'we', 'our', 'ours',\n",
       "                             'ourselves', 'you', \"you're\", \"you've\", \"you'll\",\n",
       "                             \"you'd\", 'your', 'yours', 'yourself', 'yourselves',\n",
       "                             'he', 'him', 'his', 'himself', 'she', \"she's\",\n",
       "                             'her', 'hers', 'herself', 'it', \"it's\", 'its',\n",
       "                             'itself', ...]),\n",
       " 'nb': MultinomialNB(),\n",
       " 'cvec__analyzer': 'word',\n",
       " 'cvec__binary': False,\n",
       " 'cvec__decode_error': 'strict',\n",
       " 'cvec__dtype': numpy.int64,\n",
       " 'cvec__encoding': 'utf-8',\n",
       " 'cvec__input': 'content',\n",
       " 'cvec__lowercase': True,\n",
       " 'cvec__max_df': 1.0,\n",
       " 'cvec__max_features': None,\n",
       " 'cvec__min_df': 1,\n",
       " 'cvec__ngram_range': (1, 1),\n",
       " 'cvec__preprocessor': None,\n",
       " 'cvec__stop_words': ['i',\n",
       "  'me',\n",
       "  'my',\n",
       "  'myself',\n",
       "  'we',\n",
       "  'our',\n",
       "  'ours',\n",
       "  'ourselves',\n",
       "  'you',\n",
       "  \"you're\",\n",
       "  \"you've\",\n",
       "  \"you'll\",\n",
       "  \"you'd\",\n",
       "  'your',\n",
       "  'yours',\n",
       "  'yourself',\n",
       "  'yourselves',\n",
       "  'he',\n",
       "  'him',\n",
       "  'his',\n",
       "  'himself',\n",
       "  'she',\n",
       "  \"she's\",\n",
       "  'her',\n",
       "  'hers',\n",
       "  'herself',\n",
       "  'it',\n",
       "  \"it's\",\n",
       "  'its',\n",
       "  'itself',\n",
       "  'they',\n",
       "  'them',\n",
       "  'their',\n",
       "  'theirs',\n",
       "  'themselves',\n",
       "  'what',\n",
       "  'which',\n",
       "  'who',\n",
       "  'whom',\n",
       "  'this',\n",
       "  'that',\n",
       "  \"that'll\",\n",
       "  'these',\n",
       "  'those',\n",
       "  'am',\n",
       "  'is',\n",
       "  'are',\n",
       "  'was',\n",
       "  'were',\n",
       "  'be',\n",
       "  'been',\n",
       "  'being',\n",
       "  'have',\n",
       "  'has',\n",
       "  'had',\n",
       "  'having',\n",
       "  'do',\n",
       "  'does',\n",
       "  'did',\n",
       "  'doing',\n",
       "  'a',\n",
       "  'an',\n",
       "  'the',\n",
       "  'and',\n",
       "  'but',\n",
       "  'if',\n",
       "  'or',\n",
       "  'because',\n",
       "  'as',\n",
       "  'until',\n",
       "  'while',\n",
       "  'of',\n",
       "  'at',\n",
       "  'by',\n",
       "  'for',\n",
       "  'with',\n",
       "  'about',\n",
       "  'against',\n",
       "  'between',\n",
       "  'into',\n",
       "  'through',\n",
       "  'during',\n",
       "  'before',\n",
       "  'after',\n",
       "  'above',\n",
       "  'below',\n",
       "  'to',\n",
       "  'from',\n",
       "  'up',\n",
       "  'down',\n",
       "  'in',\n",
       "  'out',\n",
       "  'on',\n",
       "  'off',\n",
       "  'over',\n",
       "  'under',\n",
       "  'again',\n",
       "  'further',\n",
       "  'then',\n",
       "  'once',\n",
       "  'here',\n",
       "  'there',\n",
       "  'when',\n",
       "  'where',\n",
       "  'why',\n",
       "  'how',\n",
       "  'all',\n",
       "  'any',\n",
       "  'both',\n",
       "  'each',\n",
       "  'few',\n",
       "  'more',\n",
       "  'most',\n",
       "  'other',\n",
       "  'some',\n",
       "  'such',\n",
       "  'no',\n",
       "  'nor',\n",
       "  'not',\n",
       "  'only',\n",
       "  'own',\n",
       "  'same',\n",
       "  'so',\n",
       "  'than',\n",
       "  'too',\n",
       "  'very',\n",
       "  's',\n",
       "  't',\n",
       "  'can',\n",
       "  'will',\n",
       "  'just',\n",
       "  'don',\n",
       "  \"don't\",\n",
       "  'should',\n",
       "  \"should've\",\n",
       "  'now',\n",
       "  'd',\n",
       "  'll',\n",
       "  'm',\n",
       "  'o',\n",
       "  're',\n",
       "  've',\n",
       "  'y',\n",
       "  'ain',\n",
       "  'aren',\n",
       "  \"aren't\",\n",
       "  'couldn',\n",
       "  \"couldn't\",\n",
       "  'didn',\n",
       "  \"didn't\",\n",
       "  'doesn',\n",
       "  \"doesn't\",\n",
       "  'hadn',\n",
       "  \"hadn't\",\n",
       "  'hasn',\n",
       "  \"hasn't\",\n",
       "  'haven',\n",
       "  \"haven't\",\n",
       "  'isn',\n",
       "  \"isn't\",\n",
       "  'ma',\n",
       "  'mightn',\n",
       "  \"mightn't\",\n",
       "  'mustn',\n",
       "  \"mustn't\",\n",
       "  'needn',\n",
       "  \"needn't\",\n",
       "  'shan',\n",
       "  \"shan't\",\n",
       "  'shouldn',\n",
       "  \"shouldn't\",\n",
       "  'wasn',\n",
       "  \"wasn't\",\n",
       "  'weren',\n",
       "  \"weren't\",\n",
       "  'won',\n",
       "  \"won't\",\n",
       "  'wouldn',\n",
       "  \"wouldn't\",\n",
       "  '\\n',\n",
       "  'history',\n",
       "  'science',\n",
       "  'com',\n",
       "  'www',\n",
       "  'askscience',\n",
       "  'askhistorians'],\n",
       " 'cvec__strip_accents': None,\n",
       " 'cvec__token_pattern': '(?u)\\\\b\\\\w\\\\w+\\\\b',\n",
       " 'cvec__tokenizer': None,\n",
       " 'cvec__vocabulary': None,\n",
       " 'nb__alpha': 1.0,\n",
       " 'nb__class_prior': None,\n",
       " 'nb__fit_prior': True,\n",
       " 'nb__force_alpha': 'warn'}"
      ]
     },
     "execution_count": 62,
     "metadata": {},
     "output_type": "execute_result"
    }
   ],
   "source": [
    "pipe.get_params()\n"
   ]
  },
  {
   "cell_type": "code",
   "execution_count": 42,
   "id": "3843a966-d024-4d82-ab1c-401af0c45430",
   "metadata": {
    "tags": []
   },
   "outputs": [
    {
     "data": {
      "text/html": [
       "<style>#sk-container-id-2 {color: black;}#sk-container-id-2 pre{padding: 0;}#sk-container-id-2 div.sk-toggleable {background-color: white;}#sk-container-id-2 label.sk-toggleable__label {cursor: pointer;display: block;width: 100%;margin-bottom: 0;padding: 0.3em;box-sizing: border-box;text-align: center;}#sk-container-id-2 label.sk-toggleable__label-arrow:before {content: \"▸\";float: left;margin-right: 0.25em;color: #696969;}#sk-container-id-2 label.sk-toggleable__label-arrow:hover:before {color: black;}#sk-container-id-2 div.sk-estimator:hover label.sk-toggleable__label-arrow:before {color: black;}#sk-container-id-2 div.sk-toggleable__content {max-height: 0;max-width: 0;overflow: hidden;text-align: left;background-color: #f0f8ff;}#sk-container-id-2 div.sk-toggleable__content pre {margin: 0.2em;color: black;border-radius: 0.25em;background-color: #f0f8ff;}#sk-container-id-2 input.sk-toggleable__control:checked~div.sk-toggleable__content {max-height: 200px;max-width: 100%;overflow: auto;}#sk-container-id-2 input.sk-toggleable__control:checked~label.sk-toggleable__label-arrow:before {content: \"▾\";}#sk-container-id-2 div.sk-estimator input.sk-toggleable__control:checked~label.sk-toggleable__label {background-color: #d4ebff;}#sk-container-id-2 div.sk-label input.sk-toggleable__control:checked~label.sk-toggleable__label {background-color: #d4ebff;}#sk-container-id-2 input.sk-hidden--visually {border: 0;clip: rect(1px 1px 1px 1px);clip: rect(1px, 1px, 1px, 1px);height: 1px;margin: -1px;overflow: hidden;padding: 0;position: absolute;width: 1px;}#sk-container-id-2 div.sk-estimator {font-family: monospace;background-color: #f0f8ff;border: 1px dotted black;border-radius: 0.25em;box-sizing: border-box;margin-bottom: 0.5em;}#sk-container-id-2 div.sk-estimator:hover {background-color: #d4ebff;}#sk-container-id-2 div.sk-parallel-item::after {content: \"\";width: 100%;border-bottom: 1px solid gray;flex-grow: 1;}#sk-container-id-2 div.sk-label:hover label.sk-toggleable__label {background-color: #d4ebff;}#sk-container-id-2 div.sk-serial::before {content: \"\";position: absolute;border-left: 1px solid gray;box-sizing: border-box;top: 0;bottom: 0;left: 50%;z-index: 0;}#sk-container-id-2 div.sk-serial {display: flex;flex-direction: column;align-items: center;background-color: white;padding-right: 0.2em;padding-left: 0.2em;position: relative;}#sk-container-id-2 div.sk-item {position: relative;z-index: 1;}#sk-container-id-2 div.sk-parallel {display: flex;align-items: stretch;justify-content: center;background-color: white;position: relative;}#sk-container-id-2 div.sk-item::before, #sk-container-id-2 div.sk-parallel-item::before {content: \"\";position: absolute;border-left: 1px solid gray;box-sizing: border-box;top: 0;bottom: 0;left: 50%;z-index: -1;}#sk-container-id-2 div.sk-parallel-item {display: flex;flex-direction: column;z-index: 1;position: relative;background-color: white;}#sk-container-id-2 div.sk-parallel-item:first-child::after {align-self: flex-end;width: 50%;}#sk-container-id-2 div.sk-parallel-item:last-child::after {align-self: flex-start;width: 50%;}#sk-container-id-2 div.sk-parallel-item:only-child::after {width: 0;}#sk-container-id-2 div.sk-dashed-wrapped {border: 1px dashed gray;margin: 0 0.4em 0.5em 0.4em;box-sizing: border-box;padding-bottom: 0.4em;background-color: white;}#sk-container-id-2 div.sk-label label {font-family: monospace;font-weight: bold;display: inline-block;line-height: 1.2em;}#sk-container-id-2 div.sk-label-container {text-align: center;}#sk-container-id-2 div.sk-container {/* jupyter's `normalize.less` sets `[hidden] { display: none; }` but bootstrap.min.css set `[hidden] { display: none !important; }` so we also need the `!important` here to be able to override the default hidden behavior on the sphinx rendered scikit-learn.org. See: https://github.com/scikit-learn/scikit-learn/issues/21755 */display: inline-block !important;position: relative;}#sk-container-id-2 div.sk-text-repr-fallback {display: none;}</style><div id=\"sk-container-id-2\" class=\"sk-top-container\"><div class=\"sk-text-repr-fallback\"><pre>Pipeline(steps=[(&#x27;cvec&#x27;,\n",
       "                 CountVectorizer(ngram_range=(1, 2),\n",
       "                                 stop_words=[&#x27;i&#x27;, &#x27;me&#x27;, &#x27;my&#x27;, &#x27;myself&#x27;, &#x27;we&#x27;,\n",
       "                                             &#x27;our&#x27;, &#x27;ours&#x27;, &#x27;ourselves&#x27;, &#x27;you&#x27;,\n",
       "                                             &quot;you&#x27;re&quot;, &quot;you&#x27;ve&quot;, &quot;you&#x27;ll&quot;,\n",
       "                                             &quot;you&#x27;d&quot;, &#x27;your&#x27;, &#x27;yours&#x27;,\n",
       "                                             &#x27;yourself&#x27;, &#x27;yourselves&#x27;, &#x27;he&#x27;,\n",
       "                                             &#x27;him&#x27;, &#x27;his&#x27;, &#x27;himself&#x27;, &#x27;she&#x27;,\n",
       "                                             &quot;she&#x27;s&quot;, &#x27;her&#x27;, &#x27;hers&#x27;, &#x27;herself&#x27;,\n",
       "                                             &#x27;it&#x27;, &quot;it&#x27;s&quot;, &#x27;its&#x27;, &#x27;itself&#x27;, ...])),\n",
       "                (&#x27;nb&#x27;, MultinomialNB())])</pre><b>In a Jupyter environment, please rerun this cell to show the HTML representation or trust the notebook. <br />On GitHub, the HTML representation is unable to render, please try loading this page with nbviewer.org.</b></div><div class=\"sk-container\" hidden><div class=\"sk-item sk-dashed-wrapped\"><div class=\"sk-label-container\"><div class=\"sk-label sk-toggleable\"><input class=\"sk-toggleable__control sk-hidden--visually\" id=\"sk-estimator-id-4\" type=\"checkbox\" ><label for=\"sk-estimator-id-4\" class=\"sk-toggleable__label sk-toggleable__label-arrow\">Pipeline</label><div class=\"sk-toggleable__content\"><pre>Pipeline(steps=[(&#x27;cvec&#x27;,\n",
       "                 CountVectorizer(ngram_range=(1, 2),\n",
       "                                 stop_words=[&#x27;i&#x27;, &#x27;me&#x27;, &#x27;my&#x27;, &#x27;myself&#x27;, &#x27;we&#x27;,\n",
       "                                             &#x27;our&#x27;, &#x27;ours&#x27;, &#x27;ourselves&#x27;, &#x27;you&#x27;,\n",
       "                                             &quot;you&#x27;re&quot;, &quot;you&#x27;ve&quot;, &quot;you&#x27;ll&quot;,\n",
       "                                             &quot;you&#x27;d&quot;, &#x27;your&#x27;, &#x27;yours&#x27;,\n",
       "                                             &#x27;yourself&#x27;, &#x27;yourselves&#x27;, &#x27;he&#x27;,\n",
       "                                             &#x27;him&#x27;, &#x27;his&#x27;, &#x27;himself&#x27;, &#x27;she&#x27;,\n",
       "                                             &quot;she&#x27;s&quot;, &#x27;her&#x27;, &#x27;hers&#x27;, &#x27;herself&#x27;,\n",
       "                                             &#x27;it&#x27;, &quot;it&#x27;s&quot;, &#x27;its&#x27;, &#x27;itself&#x27;, ...])),\n",
       "                (&#x27;nb&#x27;, MultinomialNB())])</pre></div></div></div><div class=\"sk-serial\"><div class=\"sk-item\"><div class=\"sk-estimator sk-toggleable\"><input class=\"sk-toggleable__control sk-hidden--visually\" id=\"sk-estimator-id-5\" type=\"checkbox\" ><label for=\"sk-estimator-id-5\" class=\"sk-toggleable__label sk-toggleable__label-arrow\">CountVectorizer</label><div class=\"sk-toggleable__content\"><pre>CountVectorizer(ngram_range=(1, 2),\n",
       "                stop_words=[&#x27;i&#x27;, &#x27;me&#x27;, &#x27;my&#x27;, &#x27;myself&#x27;, &#x27;we&#x27;, &#x27;our&#x27;, &#x27;ours&#x27;,\n",
       "                            &#x27;ourselves&#x27;, &#x27;you&#x27;, &quot;you&#x27;re&quot;, &quot;you&#x27;ve&quot;, &quot;you&#x27;ll&quot;,\n",
       "                            &quot;you&#x27;d&quot;, &#x27;your&#x27;, &#x27;yours&#x27;, &#x27;yourself&#x27;, &#x27;yourselves&#x27;,\n",
       "                            &#x27;he&#x27;, &#x27;him&#x27;, &#x27;his&#x27;, &#x27;himself&#x27;, &#x27;she&#x27;, &quot;she&#x27;s&quot;,\n",
       "                            &#x27;her&#x27;, &#x27;hers&#x27;, &#x27;herself&#x27;, &#x27;it&#x27;, &quot;it&#x27;s&quot;, &#x27;its&#x27;,\n",
       "                            &#x27;itself&#x27;, ...])</pre></div></div></div><div class=\"sk-item\"><div class=\"sk-estimator sk-toggleable\"><input class=\"sk-toggleable__control sk-hidden--visually\" id=\"sk-estimator-id-6\" type=\"checkbox\" ><label for=\"sk-estimator-id-6\" class=\"sk-toggleable__label sk-toggleable__label-arrow\">MultinomialNB</label><div class=\"sk-toggleable__content\"><pre>MultinomialNB()</pre></div></div></div></div></div></div></div>"
      ],
      "text/plain": [
       "Pipeline(steps=[('cvec',\n",
       "                 CountVectorizer(ngram_range=(1, 2),\n",
       "                                 stop_words=['i', 'me', 'my', 'myself', 'we',\n",
       "                                             'our', 'ours', 'ourselves', 'you',\n",
       "                                             \"you're\", \"you've\", \"you'll\",\n",
       "                                             \"you'd\", 'your', 'yours',\n",
       "                                             'yourself', 'yourselves', 'he',\n",
       "                                             'him', 'his', 'himself', 'she',\n",
       "                                             \"she's\", 'her', 'hers', 'herself',\n",
       "                                             'it', \"it's\", 'its', 'itself', ...])),\n",
       "                ('nb', MultinomialNB())])"
      ]
     },
     "execution_count": 42,
     "metadata": {},
     "output_type": "execute_result"
    }
   ],
   "source": [
    "# pipe.fit(X_train, y_train)"
   ]
  },
  {
   "cell_type": "code",
   "execution_count": 43,
   "id": "ef2adecf-1e51-4323-b4dc-54947d8dfc8c",
   "metadata": {
    "tags": []
   },
   "outputs": [
    {
     "data": {
      "text/plain": [
       "(1.0, 0.9622641509433962)"
      ]
     },
     "execution_count": 43,
     "metadata": {},
     "output_type": "execute_result"
    }
   ],
   "source": [
    "# pipe.score(X_train, y_train), pipe.score(X_test, y_test)"
   ]
  },
  {
   "cell_type": "code",
   "execution_count": 71,
   "id": "8ac68ca7-de93-4353-bae4-cf8c8c138d4d",
   "metadata": {
    "tags": []
   },
   "outputs": [
    {
     "data": {
      "text/html": [
       "<style>#sk-container-id-7 {color: black;}#sk-container-id-7 pre{padding: 0;}#sk-container-id-7 div.sk-toggleable {background-color: white;}#sk-container-id-7 label.sk-toggleable__label {cursor: pointer;display: block;width: 100%;margin-bottom: 0;padding: 0.3em;box-sizing: border-box;text-align: center;}#sk-container-id-7 label.sk-toggleable__label-arrow:before {content: \"▸\";float: left;margin-right: 0.25em;color: #696969;}#sk-container-id-7 label.sk-toggleable__label-arrow:hover:before {color: black;}#sk-container-id-7 div.sk-estimator:hover label.sk-toggleable__label-arrow:before {color: black;}#sk-container-id-7 div.sk-toggleable__content {max-height: 0;max-width: 0;overflow: hidden;text-align: left;background-color: #f0f8ff;}#sk-container-id-7 div.sk-toggleable__content pre {margin: 0.2em;color: black;border-radius: 0.25em;background-color: #f0f8ff;}#sk-container-id-7 input.sk-toggleable__control:checked~div.sk-toggleable__content {max-height: 200px;max-width: 100%;overflow: auto;}#sk-container-id-7 input.sk-toggleable__control:checked~label.sk-toggleable__label-arrow:before {content: \"▾\";}#sk-container-id-7 div.sk-estimator input.sk-toggleable__control:checked~label.sk-toggleable__label {background-color: #d4ebff;}#sk-container-id-7 div.sk-label input.sk-toggleable__control:checked~label.sk-toggleable__label {background-color: #d4ebff;}#sk-container-id-7 input.sk-hidden--visually {border: 0;clip: rect(1px 1px 1px 1px);clip: rect(1px, 1px, 1px, 1px);height: 1px;margin: -1px;overflow: hidden;padding: 0;position: absolute;width: 1px;}#sk-container-id-7 div.sk-estimator {font-family: monospace;background-color: #f0f8ff;border: 1px dotted black;border-radius: 0.25em;box-sizing: border-box;margin-bottom: 0.5em;}#sk-container-id-7 div.sk-estimator:hover {background-color: #d4ebff;}#sk-container-id-7 div.sk-parallel-item::after {content: \"\";width: 100%;border-bottom: 1px solid gray;flex-grow: 1;}#sk-container-id-7 div.sk-label:hover label.sk-toggleable__label {background-color: #d4ebff;}#sk-container-id-7 div.sk-serial::before {content: \"\";position: absolute;border-left: 1px solid gray;box-sizing: border-box;top: 0;bottom: 0;left: 50%;z-index: 0;}#sk-container-id-7 div.sk-serial {display: flex;flex-direction: column;align-items: center;background-color: white;padding-right: 0.2em;padding-left: 0.2em;position: relative;}#sk-container-id-7 div.sk-item {position: relative;z-index: 1;}#sk-container-id-7 div.sk-parallel {display: flex;align-items: stretch;justify-content: center;background-color: white;position: relative;}#sk-container-id-7 div.sk-item::before, #sk-container-id-7 div.sk-parallel-item::before {content: \"\";position: absolute;border-left: 1px solid gray;box-sizing: border-box;top: 0;bottom: 0;left: 50%;z-index: -1;}#sk-container-id-7 div.sk-parallel-item {display: flex;flex-direction: column;z-index: 1;position: relative;background-color: white;}#sk-container-id-7 div.sk-parallel-item:first-child::after {align-self: flex-end;width: 50%;}#sk-container-id-7 div.sk-parallel-item:last-child::after {align-self: flex-start;width: 50%;}#sk-container-id-7 div.sk-parallel-item:only-child::after {width: 0;}#sk-container-id-7 div.sk-dashed-wrapped {border: 1px dashed gray;margin: 0 0.4em 0.5em 0.4em;box-sizing: border-box;padding-bottom: 0.4em;background-color: white;}#sk-container-id-7 div.sk-label label {font-family: monospace;font-weight: bold;display: inline-block;line-height: 1.2em;}#sk-container-id-7 div.sk-label-container {text-align: center;}#sk-container-id-7 div.sk-container {/* jupyter's `normalize.less` sets `[hidden] { display: none; }` but bootstrap.min.css set `[hidden] { display: none !important; }` so we also need the `!important` here to be able to override the default hidden behavior on the sphinx rendered scikit-learn.org. See: https://github.com/scikit-learn/scikit-learn/issues/21755 */display: inline-block !important;position: relative;}#sk-container-id-7 div.sk-text-repr-fallback {display: none;}</style><div id=\"sk-container-id-7\" class=\"sk-top-container\"><div class=\"sk-text-repr-fallback\"><pre>GridSearchCV(cv=5,\n",
       "             estimator=Pipeline(steps=[(&#x27;cvec&#x27;,\n",
       "                                        CountVectorizer(stop_words=[&#x27;i&#x27;, &#x27;me&#x27;,\n",
       "                                                                    &#x27;my&#x27;,\n",
       "                                                                    &#x27;myself&#x27;,\n",
       "                                                                    &#x27;we&#x27;, &#x27;our&#x27;,\n",
       "                                                                    &#x27;ours&#x27;,\n",
       "                                                                    &#x27;ourselves&#x27;,\n",
       "                                                                    &#x27;you&#x27;,\n",
       "                                                                    &quot;you&#x27;re&quot;,\n",
       "                                                                    &quot;you&#x27;ve&quot;,\n",
       "                                                                    &quot;you&#x27;ll&quot;,\n",
       "                                                                    &quot;you&#x27;d&quot;,\n",
       "                                                                    &#x27;your&#x27;,\n",
       "                                                                    &#x27;yours&#x27;,\n",
       "                                                                    &#x27;yourself&#x27;,\n",
       "                                                                    &#x27;yourselves&#x27;,\n",
       "                                                                    &#x27;he&#x27;, &#x27;him&#x27;,\n",
       "                                                                    &#x27;his&#x27;,\n",
       "                                                                    &#x27;himself&#x27;,\n",
       "                                                                    &#x27;she&#x27;,\n",
       "                                                                    &quot;she&#x27;s&quot;,\n",
       "                                                                    &#x27;her&#x27;,\n",
       "                                                                    &#x27;hers&#x27;,\n",
       "                                                                    &#x27;herself&#x27;,\n",
       "                                                                    &#x27;it&#x27;,\n",
       "                                                                    &quot;it&#x27;s&quot;,\n",
       "                                                                    &#x27;its&#x27;,\n",
       "                                                                    &#x27;itself&#x27;, ...])),\n",
       "                                       (&#x27;nb&#x27;, MultinomialNB())]),\n",
       "             n_jobs=8,\n",
       "             param_grid={&#x27;cvec__binary&#x27;: [False, True],\n",
       "                         &#x27;cvec__max_df&#x27;: array([0.5  , 0.625, 0.75 , 0.875, 1.   ]),\n",
       "                         &#x27;cvec__min_df&#x27;: [1, 2, 3],\n",
       "                         &#x27;cvec__ngram_range&#x27;: [(1, 1), (1, 2)]})</pre><b>In a Jupyter environment, please rerun this cell to show the HTML representation or trust the notebook. <br />On GitHub, the HTML representation is unable to render, please try loading this page with nbviewer.org.</b></div><div class=\"sk-container\" hidden><div class=\"sk-item sk-dashed-wrapped\"><div class=\"sk-label-container\"><div class=\"sk-label sk-toggleable\"><input class=\"sk-toggleable__control sk-hidden--visually\" id=\"sk-estimator-id-23\" type=\"checkbox\" ><label for=\"sk-estimator-id-23\" class=\"sk-toggleable__label sk-toggleable__label-arrow\">GridSearchCV</label><div class=\"sk-toggleable__content\"><pre>GridSearchCV(cv=5,\n",
       "             estimator=Pipeline(steps=[(&#x27;cvec&#x27;,\n",
       "                                        CountVectorizer(stop_words=[&#x27;i&#x27;, &#x27;me&#x27;,\n",
       "                                                                    &#x27;my&#x27;,\n",
       "                                                                    &#x27;myself&#x27;,\n",
       "                                                                    &#x27;we&#x27;, &#x27;our&#x27;,\n",
       "                                                                    &#x27;ours&#x27;,\n",
       "                                                                    &#x27;ourselves&#x27;,\n",
       "                                                                    &#x27;you&#x27;,\n",
       "                                                                    &quot;you&#x27;re&quot;,\n",
       "                                                                    &quot;you&#x27;ve&quot;,\n",
       "                                                                    &quot;you&#x27;ll&quot;,\n",
       "                                                                    &quot;you&#x27;d&quot;,\n",
       "                                                                    &#x27;your&#x27;,\n",
       "                                                                    &#x27;yours&#x27;,\n",
       "                                                                    &#x27;yourself&#x27;,\n",
       "                                                                    &#x27;yourselves&#x27;,\n",
       "                                                                    &#x27;he&#x27;, &#x27;him&#x27;,\n",
       "                                                                    &#x27;his&#x27;,\n",
       "                                                                    &#x27;himself&#x27;,\n",
       "                                                                    &#x27;she&#x27;,\n",
       "                                                                    &quot;she&#x27;s&quot;,\n",
       "                                                                    &#x27;her&#x27;,\n",
       "                                                                    &#x27;hers&#x27;,\n",
       "                                                                    &#x27;herself&#x27;,\n",
       "                                                                    &#x27;it&#x27;,\n",
       "                                                                    &quot;it&#x27;s&quot;,\n",
       "                                                                    &#x27;its&#x27;,\n",
       "                                                                    &#x27;itself&#x27;, ...])),\n",
       "                                       (&#x27;nb&#x27;, MultinomialNB())]),\n",
       "             n_jobs=8,\n",
       "             param_grid={&#x27;cvec__binary&#x27;: [False, True],\n",
       "                         &#x27;cvec__max_df&#x27;: array([0.5  , 0.625, 0.75 , 0.875, 1.   ]),\n",
       "                         &#x27;cvec__min_df&#x27;: [1, 2, 3],\n",
       "                         &#x27;cvec__ngram_range&#x27;: [(1, 1), (1, 2)]})</pre></div></div></div><div class=\"sk-parallel\"><div class=\"sk-parallel-item\"><div class=\"sk-item\"><div class=\"sk-label-container\"><div class=\"sk-label sk-toggleable\"><input class=\"sk-toggleable__control sk-hidden--visually\" id=\"sk-estimator-id-24\" type=\"checkbox\" ><label for=\"sk-estimator-id-24\" class=\"sk-toggleable__label sk-toggleable__label-arrow\">estimator: Pipeline</label><div class=\"sk-toggleable__content\"><pre>Pipeline(steps=[(&#x27;cvec&#x27;,\n",
       "                 CountVectorizer(stop_words=[&#x27;i&#x27;, &#x27;me&#x27;, &#x27;my&#x27;, &#x27;myself&#x27;, &#x27;we&#x27;,\n",
       "                                             &#x27;our&#x27;, &#x27;ours&#x27;, &#x27;ourselves&#x27;, &#x27;you&#x27;,\n",
       "                                             &quot;you&#x27;re&quot;, &quot;you&#x27;ve&quot;, &quot;you&#x27;ll&quot;,\n",
       "                                             &quot;you&#x27;d&quot;, &#x27;your&#x27;, &#x27;yours&#x27;,\n",
       "                                             &#x27;yourself&#x27;, &#x27;yourselves&#x27;, &#x27;he&#x27;,\n",
       "                                             &#x27;him&#x27;, &#x27;his&#x27;, &#x27;himself&#x27;, &#x27;she&#x27;,\n",
       "                                             &quot;she&#x27;s&quot;, &#x27;her&#x27;, &#x27;hers&#x27;, &#x27;herself&#x27;,\n",
       "                                             &#x27;it&#x27;, &quot;it&#x27;s&quot;, &#x27;its&#x27;, &#x27;itself&#x27;, ...])),\n",
       "                (&#x27;nb&#x27;, MultinomialNB())])</pre></div></div></div><div class=\"sk-serial\"><div class=\"sk-item\"><div class=\"sk-serial\"><div class=\"sk-item\"><div class=\"sk-estimator sk-toggleable\"><input class=\"sk-toggleable__control sk-hidden--visually\" id=\"sk-estimator-id-25\" type=\"checkbox\" ><label for=\"sk-estimator-id-25\" class=\"sk-toggleable__label sk-toggleable__label-arrow\">CountVectorizer</label><div class=\"sk-toggleable__content\"><pre>CountVectorizer(stop_words=[&#x27;i&#x27;, &#x27;me&#x27;, &#x27;my&#x27;, &#x27;myself&#x27;, &#x27;we&#x27;, &#x27;our&#x27;, &#x27;ours&#x27;,\n",
       "                            &#x27;ourselves&#x27;, &#x27;you&#x27;, &quot;you&#x27;re&quot;, &quot;you&#x27;ve&quot;, &quot;you&#x27;ll&quot;,\n",
       "                            &quot;you&#x27;d&quot;, &#x27;your&#x27;, &#x27;yours&#x27;, &#x27;yourself&#x27;, &#x27;yourselves&#x27;,\n",
       "                            &#x27;he&#x27;, &#x27;him&#x27;, &#x27;his&#x27;, &#x27;himself&#x27;, &#x27;she&#x27;, &quot;she&#x27;s&quot;,\n",
       "                            &#x27;her&#x27;, &#x27;hers&#x27;, &#x27;herself&#x27;, &#x27;it&#x27;, &quot;it&#x27;s&quot;, &#x27;its&#x27;,\n",
       "                            &#x27;itself&#x27;, ...])</pre></div></div></div><div class=\"sk-item\"><div class=\"sk-estimator sk-toggleable\"><input class=\"sk-toggleable__control sk-hidden--visually\" id=\"sk-estimator-id-26\" type=\"checkbox\" ><label for=\"sk-estimator-id-26\" class=\"sk-toggleable__label sk-toggleable__label-arrow\">MultinomialNB</label><div class=\"sk-toggleable__content\"><pre>MultinomialNB()</pre></div></div></div></div></div></div></div></div></div></div></div></div>"
      ],
      "text/plain": [
       "GridSearchCV(cv=5,\n",
       "             estimator=Pipeline(steps=[('cvec',\n",
       "                                        CountVectorizer(stop_words=['i', 'me',\n",
       "                                                                    'my',\n",
       "                                                                    'myself',\n",
       "                                                                    'we', 'our',\n",
       "                                                                    'ours',\n",
       "                                                                    'ourselves',\n",
       "                                                                    'you',\n",
       "                                                                    \"you're\",\n",
       "                                                                    \"you've\",\n",
       "                                                                    \"you'll\",\n",
       "                                                                    \"you'd\",\n",
       "                                                                    'your',\n",
       "                                                                    'yours',\n",
       "                                                                    'yourself',\n",
       "                                                                    'yourselves',\n",
       "                                                                    'he', 'him',\n",
       "                                                                    'his',\n",
       "                                                                    'himself',\n",
       "                                                                    'she',\n",
       "                                                                    \"she's\",\n",
       "                                                                    'her',\n",
       "                                                                    'hers',\n",
       "                                                                    'herself',\n",
       "                                                                    'it',\n",
       "                                                                    \"it's\",\n",
       "                                                                    'its',\n",
       "                                                                    'itself', ...])),\n",
       "                                       ('nb', MultinomialNB())]),\n",
       "             n_jobs=8,\n",
       "             param_grid={'cvec__binary': [False, True],\n",
       "                         'cvec__max_df': array([0.5  , 0.625, 0.75 , 0.875, 1.   ]),\n",
       "                         'cvec__min_df': [1, 2, 3],\n",
       "                         'cvec__ngram_range': [(1, 1), (1, 2)]})"
      ]
     },
     "execution_count": 71,
     "metadata": {},
     "output_type": "execute_result"
    }
   ],
   "source": [
    "gs.fit(X_train, y_train)\n"
   ]
  },
  {
   "cell_type": "code",
   "execution_count": 72,
   "id": "db011184-6d51-49fd-be6a-9c07944a3b01",
   "metadata": {
    "tags": []
   },
   "outputs": [
    {
     "data": {
      "text/plain": [
       "(0.9891646277525341, 0.960167714884696)"
      ]
     },
     "execution_count": 72,
     "metadata": {},
     "output_type": "execute_result"
    }
   ],
   "source": [
    "gs.score(X_train, y_train), gs.score(X_test, y_test)"
   ]
  },
  {
   "cell_type": "code",
   "execution_count": 73,
   "id": "7a091c98-fe64-4d80-9762-18de472231fc",
   "metadata": {
    "tags": []
   },
   "outputs": [
    {
     "data": {
      "text/plain": [
       "{'cvec__binary': False,\n",
       " 'cvec__max_df': 0.5,\n",
       " 'cvec__min_df': 1,\n",
       " 'cvec__ngram_range': (1, 1)}"
      ]
     },
     "execution_count": 73,
     "metadata": {},
     "output_type": "execute_result"
    }
   ],
   "source": [
    "gs.best_params_"
   ]
  },
  {
   "cell_type": "code",
   "execution_count": null,
   "id": "54ca9c16-902b-4ccb-a71c-e330e4c22cc3",
   "metadata": {},
   "outputs": [],
   "source": []
  },
  {
   "cell_type": "code",
   "execution_count": null,
   "id": "67519a9c-89a0-405c-bdd2-933223e58c36",
   "metadata": {
    "tags": []
   },
   "outputs": [],
   "source": [
    "\n"
   ]
  },
  {
   "cell_type": "code",
   "execution_count": null,
   "id": "19b1af33-25e2-4db5-b8f2-3c3290800b47",
   "metadata": {
    "tags": []
   },
   "outputs": [],
   "source": [
    "###\n",
    "df"
   ]
  },
  {
   "cell_type": "code",
   "execution_count": null,
   "id": "6f5cb583-ddd1-44e2-9439-45406a7da992",
   "metadata": {},
   "outputs": [],
   "source": []
  },
  {
   "cell_type": "code",
   "execution_count": null,
   "id": "de74d25a-0dde-4262-b730-ce80d65b7a2d",
   "metadata": {},
   "outputs": [],
   "source": []
  }
 ],
 "metadata": {
  "kernelspec": {
   "display_name": "Python 3 (ipykernel)",
   "language": "python",
   "name": "python3"
  },
  "language_info": {
   "codemirror_mode": {
    "name": "ipython",
    "version": 3
   },
   "file_extension": ".py",
   "mimetype": "text/x-python",
   "name": "python",
   "nbconvert_exporter": "python",
   "pygments_lexer": "ipython3",
   "version": "3.11.5"
  }
 },
 "nbformat": 4,
 "nbformat_minor": 5
}
